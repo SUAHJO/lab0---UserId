{
  "nbformat": 4,
  "nbformat_minor": 0,
  "metadata": {
    "colab": {
      "name": "Untitled2.ipynb",
      "provenance": [],
      "toc_visible": true,
      "authorship_tag": "ABX9TyMCfb2vHU58sOlpxoHxpLk+",
      "include_colab_link": true
    },
    "kernelspec": {
      "name": "python3",
      "display_name": "Python 3"
    },
    "language_info": {
      "name": "python"
    }
  },
  "cells": [
    {
      "cell_type": "markdown",
      "metadata": {
        "id": "view-in-github",
        "colab_type": "text"
      },
      "source": [
        "<a href=\"https://colab.research.google.com/github/SUAHJO/lab0---UserId/blob/main/Untitled2.ipynb\" target=\"_parent\"><img src=\"https://colab.research.google.com/assets/colab-badge.svg\" alt=\"Open In Colab\"/></a>"
      ]
    },
    {
      "cell_type": "code",
      "metadata": {
        "id": "zbhJvylvH_Fk"
      },
      "source": [
        "##3 Dictionaries"
      ],
      "execution_count": null,
      "outputs": []
    },
    {
      "cell_type": "code",
      "metadata": {
        "id": "9-cbca2FIacs"
      },
      "source": [
        "# {key : value}\n",
        "# As python 3.7, dictionaries are ordered. In Python 3.6, dictionaries are unordered.\n",
        "\n",
        "d = {'key1' : 'item1', 'key2': 'item2'}"
      ],
      "execution_count": 13,
      "outputs": []
    },
    {
      "cell_type": "code",
      "metadata": {
        "colab": {
          "base_uri": "https://localhost:8080/"
        },
        "id": "74125JWSJpeW",
        "outputId": "400dec16-21c1-403d-a5fd-ca33f7f47cf3"
      },
      "source": [
        "print(d)"
      ],
      "execution_count": 14,
      "outputs": [
        {
          "output_type": "stream",
          "name": "stdout",
          "text": [
            "{'key1': 'item1', 'key2': 'item2'}\n"
          ]
        }
      ]
    },
    {
      "cell_type": "code",
      "metadata": {
        "colab": {
          "base_uri": "https://localhost:8080/",
          "height": 35
        },
        "id": "aJxONPbLJr0i",
        "outputId": "b57e02f0-3a9f-4cd0-dbfd-7ef3a9a3224f"
      },
      "source": [
        "d['key1']"
      ],
      "execution_count": null,
      "outputs": [
        {
          "output_type": "execute_result",
          "data": {
            "application/vnd.google.colaboratory.intrinsic+json": {
              "type": "string"
            },
            "text/plain": [
              "'item1'"
            ]
          },
          "metadata": {},
          "execution_count": 6
        }
      ]
    },
    {
      "cell_type": "code",
      "metadata": {
        "colab": {
          "base_uri": "https://localhost:8080/"
        },
        "id": "Z-gOU9fgJ6VY",
        "outputId": "2b0ada88-491d-4d85-d708-c947327b762d"
      },
      "source": [
        "d.keys()"
      ],
      "execution_count": null,
      "outputs": [
        {
          "output_type": "execute_result",
          "data": {
            "text/plain": [
              "dict_keys(['key1', 'key2'])"
            ]
          },
          "metadata": {},
          "execution_count": 7
        }
      ]
    },
    {
      "cell_type": "code",
      "metadata": {
        "colab": {
          "base_uri": "https://localhost:8080/"
        },
        "id": "XP5F02l4KLbv",
        "outputId": "b2643c79-2edc-47af-da4f-21570fdf2a08"
      },
      "source": [
        "d.items()"
      ],
      "execution_count": null,
      "outputs": [
        {
          "output_type": "execute_result",
          "data": {
            "text/plain": [
              "dict_items([('key1', 'item1'), ('key2', 'item2')])"
            ]
          },
          "metadata": {},
          "execution_count": 9
        }
      ]
    },
    {
      "cell_type": "code",
      "metadata": {
        "id": "Wpvvbi0mKW_U"
      },
      "source": [
        "temp_dict = {'Suwon': 26,'Incheon': 24,'Seoul':25}"
      ],
      "execution_count": null,
      "outputs": []
    },
    {
      "cell_type": "code",
      "metadata": {
        "colab": {
          "base_uri": "https://localhost:8080/"
        },
        "id": "bLJPuF6bK2Mj",
        "outputId": "c1474c73-cad0-46e2-926d-4e7851ba5006"
      },
      "source": [
        "print(\"Temperature for Incheon:\", temp_dict['Incheon'] )"
      ],
      "execution_count": null,
      "outputs": [
        {
          "output_type": "stream",
          "name": "stdout",
          "text": [
            "Temperature for Incheon: 24\n"
          ]
        }
      ]
    },
    {
      "cell_type": "code",
      "metadata": {
        "colab": {
          "base_uri": "https://localhost:8080/"
        },
        "id": "khgCUUCsLZ2A",
        "outputId": "92823f2e-2b22-4127-b775-a3cb66604535"
      },
      "source": [
        "#update values\n",
        "temp_dict['Suwon'] = 25\n",
        "print(temp_dict)"
      ],
      "execution_count": null,
      "outputs": [
        {
          "output_type": "stream",
          "name": "stdout",
          "text": [
            "{'Suwon': 25, 'Incheon': 24, 'Seoul': 25}\n"
          ]
        }
      ]
    },
    {
      "cell_type": "code",
      "metadata": {
        "colab": {
          "base_uri": "https://localhost:8080/"
        },
        "id": "tmjAQoGgL3Bj",
        "outputId": "b66d5de1-254d-4ee8-8e75-53f0dd501baa"
      },
      "source": [
        "#loop through a dictionary\n",
        "for e in temp_dict:\n",
        "  print('key:',e,'value:',temp_dict[e])"
      ],
      "execution_count": null,
      "outputs": [
        {
          "output_type": "stream",
          "name": "stdout",
          "text": [
            "key: Suwon value: 25\n",
            "key: Incheon value: 24\n",
            "key: Seoul value: 25\n"
          ]
        }
      ]
    },
    {
      "cell_type": "code",
      "metadata": {
        "id": "L27d3gL-NDb9"
      },
      "source": [
        "#Adding items\n",
        "car = {\n",
        "    'brand': 'Ford',\n",
        "    'model': 'Mustang',\n",
        "    'year' : 1964\n",
        "}"
      ],
      "execution_count": null,
      "outputs": []
    },
    {
      "cell_type": "code",
      "metadata": {
        "colab": {
          "base_uri": "https://localhost:8080/"
        },
        "id": "mVLQimFUNi2u",
        "outputId": "a97d2e11-f04f-461e-ab3b-01ccf4b30dec"
      },
      "source": [
        "print(car)"
      ],
      "execution_count": null,
      "outputs": [
        {
          "output_type": "stream",
          "name": "stdout",
          "text": [
            "{'brand': 'Ford', 'model': 'Mustang', 'year': 1964}\n"
          ]
        }
      ]
    },
    {
      "cell_type": "code",
      "metadata": {
        "colab": {
          "base_uri": "https://localhost:8080/"
        },
        "id": "20tvIaHaNr6O",
        "outputId": "58e285c1-1030-4c51-be6c-3b59374fd2e9"
      },
      "source": [
        "car['color'] = 'red'\n",
        "print(car)"
      ],
      "execution_count": null,
      "outputs": [
        {
          "output_type": "stream",
          "name": "stdout",
          "text": [
            "{'brand': 'Ford', 'model': 'Mustang', 'year': 1964, 'color': 'red'}\n"
          ]
        }
      ]
    },
    {
      "cell_type": "code",
      "metadata": {
        "colab": {
          "base_uri": "https://localhost:8080/",
          "height": 35
        },
        "id": "dc3MXV-HN1Ab",
        "outputId": "610417bd-ef23-4e1f-d782-a01b58bc4761"
      },
      "source": [
        "car.pop('color')"
      ],
      "execution_count": null,
      "outputs": [
        {
          "output_type": "execute_result",
          "data": {
            "application/vnd.google.colaboratory.intrinsic+json": {
              "type": "string"
            },
            "text/plain": [
              "'red'"
            ]
          },
          "metadata": {},
          "execution_count": 19
        }
      ]
    },
    {
      "cell_type": "code",
      "metadata": {
        "colab": {
          "base_uri": "https://localhost:8080/"
        },
        "id": "0eVlQcysOF4A",
        "outputId": "0193ad16-7fbd-482a-c1a6-59ccdfffb9b3"
      },
      "source": [
        "print(car)"
      ],
      "execution_count": null,
      "outputs": [
        {
          "output_type": "stream",
          "name": "stdout",
          "text": [
            "{'brand': 'Ford', 'model': 'Mustang', 'year': 1964}\n"
          ]
        }
      ]
    },
    {
      "cell_type": "code",
      "metadata": {
        "id": "w10-jcOLOJcI"
      },
      "source": [
        "mycars = {\n",
        "    'car1' : {\n",
        "        'brand': 'Ford',\n",
        "        'model': 'Mustang',\n",
        "        'year' : 1964\n",
        "    },\n",
        "    'car2' : {\n",
        "        'brand': 'Porche',\n",
        "        'model': 'Carrera GT',\n",
        "        'year' : 2021\n",
        "    }\n",
        "}"
      ],
      "execution_count": null,
      "outputs": []
    },
    {
      "cell_type": "code",
      "metadata": {
        "colab": {
          "base_uri": "https://localhost:8080/"
        },
        "id": "qibqss60PUVa",
        "outputId": "88302a53-1561-4524-b171-459718356bb2"
      },
      "source": [
        "print(mycars)"
      ],
      "execution_count": null,
      "outputs": [
        {
          "output_type": "stream",
          "name": "stdout",
          "text": [
            "{'car1': {'brand': 'Ford', 'model': 'Mustang', 'year': 1964}, 'car2': {'brand': 'Porche', 'model': 'Carrera GT', 'year': 2021}}\n"
          ]
        }
      ]
    },
    {
      "cell_type": "code",
      "metadata": {
        "id": "YoVQBrTrPcG-"
      },
      "source": [
        "#Change the year value from 1964 to 2021\n",
        "\n",
        "car = {\n",
        "    'brand': 'Ford',\n",
        "    'model' : 'Mustang',\n",
        "    'year' : 1964\n",
        "}"
      ],
      "execution_count": null,
      "outputs": []
    },
    {
      "cell_type": "code",
      "metadata": {
        "id": "dANhRdbiP3zo"
      },
      "source": [
        "car['year'] = 2021"
      ],
      "execution_count": null,
      "outputs": []
    },
    {
      "cell_type": "code",
      "metadata": {
        "colab": {
          "base_uri": "https://localhost:8080/"
        },
        "id": "n9LFacxERx78",
        "outputId": "850fd87b-3b20-42f4-9010-ee7fb9f505de"
      },
      "source": [
        "print(car)"
      ],
      "execution_count": null,
      "outputs": [
        {
          "output_type": "stream",
          "name": "stdout",
          "text": [
            "{'brand': 'Ford', 'model': 'Mustang', 'year': 2021}\n"
          ]
        }
      ]
    },
    {
      "cell_type": "markdown",
      "metadata": {
        "id": "vFRRkuYBU7nm"
      },
      "source": [
        "### Comparison Operators"
      ]
    },
    {
      "cell_type": "code",
      "metadata": {
        "colab": {
          "base_uri": "https://localhost:8080/"
        },
        "id": "hNeH8nHaSEFU",
        "outputId": "88261ebd-b6ef-4b67-e404-bcea6b8cd1e9"
      },
      "source": [
        "1 < 2"
      ],
      "execution_count": null,
      "outputs": [
        {
          "output_type": "execute_result",
          "data": {
            "text/plain": [
              "True"
            ]
          },
          "metadata": {},
          "execution_count": 32
        }
      ]
    },
    {
      "cell_type": "code",
      "metadata": {
        "colab": {
          "base_uri": "https://localhost:8080/"
        },
        "id": "Uaiyyq9mVONl",
        "outputId": "d75e6af8-2db1-4925-c309-25cdf3d2bac2"
      },
      "source": [
        "1 > 2"
      ],
      "execution_count": null,
      "outputs": [
        {
          "output_type": "execute_result",
          "data": {
            "text/plain": [
              "False"
            ]
          },
          "metadata": {},
          "execution_count": 33
        }
      ]
    },
    {
      "cell_type": "code",
      "metadata": {
        "colab": {
          "base_uri": "https://localhost:8080/"
        },
        "id": "QhIDMPghVXfH",
        "outputId": "23bbcd55-a19b-4458-8d98-7241c55dfc95"
      },
      "source": [
        "3 > 1"
      ],
      "execution_count": null,
      "outputs": [
        {
          "output_type": "execute_result",
          "data": {
            "text/plain": [
              "True"
            ]
          },
          "metadata": {},
          "execution_count": 34
        }
      ]
    },
    {
      "cell_type": "code",
      "metadata": {
        "colab": {
          "base_uri": "https://localhost:8080/"
        },
        "id": "MgZWNfozVecK",
        "outputId": "f02b7424-5f18-456d-bcb9-2adb2858fcb7"
      },
      "source": [
        "1 > 1"
      ],
      "execution_count": null,
      "outputs": [
        {
          "output_type": "execute_result",
          "data": {
            "text/plain": [
              "False"
            ]
          },
          "metadata": {},
          "execution_count": 35
        }
      ]
    },
    {
      "cell_type": "code",
      "metadata": {
        "colab": {
          "base_uri": "https://localhost:8080/"
        },
        "id": "RKYSqNrqVjv8",
        "outputId": "d19dc394-11b5-4a25-c064-1d412d38bb9a"
      },
      "source": [
        "1 >= 1"
      ],
      "execution_count": null,
      "outputs": [
        {
          "output_type": "execute_result",
          "data": {
            "text/plain": [
              "True"
            ]
          },
          "metadata": {},
          "execution_count": 36
        }
      ]
    },
    {
      "cell_type": "code",
      "metadata": {
        "colab": {
          "base_uri": "https://localhost:8080/"
        },
        "id": "nH_6aLhjVpuG",
        "outputId": "c1ac7fe5-1245-4557-f6de-13d210331069"
      },
      "source": [
        "1 <= 4"
      ],
      "execution_count": null,
      "outputs": [
        {
          "output_type": "execute_result",
          "data": {
            "text/plain": [
              "True"
            ]
          },
          "metadata": {},
          "execution_count": 37
        }
      ]
    },
    {
      "cell_type": "code",
      "metadata": {
        "colab": {
          "base_uri": "https://localhost:8080/"
        },
        "id": "q_saSBrmV3xg",
        "outputId": "0879a8ae-54a2-4964-9255-bd444fee4e08"
      },
      "source": [
        "1 == 1"
      ],
      "execution_count": null,
      "outputs": [
        {
          "output_type": "execute_result",
          "data": {
            "text/plain": [
              "True"
            ]
          },
          "metadata": {},
          "execution_count": 38
        }
      ]
    },
    {
      "cell_type": "code",
      "metadata": {
        "colab": {
          "base_uri": "https://localhost:8080/"
        },
        "id": "RACzj550V9n_",
        "outputId": "cffee8fd-0127-4a52-c26b-08de6e0808cb"
      },
      "source": [
        "2 == 5"
      ],
      "execution_count": null,
      "outputs": [
        {
          "output_type": "execute_result",
          "data": {
            "text/plain": [
              "False"
            ]
          },
          "metadata": {},
          "execution_count": 39
        }
      ]
    },
    {
      "cell_type": "code",
      "metadata": {
        "colab": {
          "base_uri": "https://localhost:8080/"
        },
        "id": "Fy7S3X4xWARH",
        "outputId": "7c038bae-a487-4de7-b82d-da83a3554805"
      },
      "source": [
        "1 != 1"
      ],
      "execution_count": null,
      "outputs": [
        {
          "output_type": "execute_result",
          "data": {
            "text/plain": [
              "False"
            ]
          },
          "metadata": {},
          "execution_count": 40
        }
      ]
    },
    {
      "cell_type": "code",
      "metadata": {
        "colab": {
          "base_uri": "https://localhost:8080/"
        },
        "id": "0A1qg6LLWJmw",
        "outputId": "22eadc6c-41a0-487b-ed6b-fb4bad6d7494"
      },
      "source": [
        "4 != 12"
      ],
      "execution_count": null,
      "outputs": [
        {
          "output_type": "execute_result",
          "data": {
            "text/plain": [
              "True"
            ]
          },
          "metadata": {},
          "execution_count": 41
        }
      ]
    },
    {
      "cell_type": "code",
      "metadata": {
        "colab": {
          "base_uri": "https://localhost:8080/"
        },
        "id": "9y5O_NfhWM1D",
        "outputId": "fea8a35f-5c5e-40cc-c919-c0aa55e16c18"
      },
      "source": [
        "'hi' == 'hi'"
      ],
      "execution_count": null,
      "outputs": [
        {
          "output_type": "execute_result",
          "data": {
            "text/plain": [
              "True"
            ]
          },
          "metadata": {},
          "execution_count": 42
        }
      ]
    },
    {
      "cell_type": "code",
      "metadata": {
        "colab": {
          "base_uri": "https://localhost:8080/"
        },
        "id": "5b9udYMrWblW",
        "outputId": "ebee5f7b-909e-41a5-9f26-70819ccb6684"
      },
      "source": [
        "'hi' == 'bye'"
      ],
      "execution_count": null,
      "outputs": [
        {
          "output_type": "execute_result",
          "data": {
            "text/plain": [
              "False"
            ]
          },
          "metadata": {},
          "execution_count": 43
        }
      ]
    },
    {
      "cell_type": "code",
      "metadata": {
        "colab": {
          "base_uri": "https://localhost:8080/"
        },
        "id": "XeJLy_yoWfbX",
        "outputId": "4f7a4a27-0196-407c-c1ab-6fd812cd564d"
      },
      "source": [
        "# 대문자와 소문자는 다름\n",
        "'hi' == 'HI'"
      ],
      "execution_count": null,
      "outputs": [
        {
          "output_type": "execute_result",
          "data": {
            "text/plain": [
              "False"
            ]
          },
          "metadata": {},
          "execution_count": 45
        }
      ]
    },
    {
      "cell_type": "markdown",
      "metadata": {
        "id": "Ymywg6yEWy3O"
      },
      "source": [
        "### Logic Operators"
      ]
    },
    {
      "cell_type": "code",
      "metadata": {
        "colab": {
          "base_uri": "https://localhost:8080/"
        },
        "id": "9ck_ew9rW178",
        "outputId": "d8756a0c-5ab4-4031-a845-e2992699ed2d"
      },
      "source": [
        "( 1 > 2 ) or ( 2 < 3 )"
      ],
      "execution_count": null,
      "outputs": [
        {
          "output_type": "execute_result",
          "data": {
            "text/plain": [
              "True"
            ]
          },
          "metadata": {},
          "execution_count": 47
        }
      ]
    },
    {
      "cell_type": "code",
      "metadata": {
        "colab": {
          "base_uri": "https://localhost:8080/"
        },
        "id": "btcv9u-SW5NG",
        "outputId": "df1a0b13-76a4-41fa-fe02-cbb5eba327d0"
      },
      "source": [
        "( 1 > 2 ) and ( 2 < 3 )"
      ],
      "execution_count": null,
      "outputs": [
        {
          "output_type": "execute_result",
          "data": {
            "text/plain": [
              "False"
            ]
          },
          "metadata": {},
          "execution_count": 48
        }
      ]
    },
    {
      "cell_type": "code",
      "metadata": {
        "colab": {
          "base_uri": "https://localhost:8080/"
        },
        "id": "XXTwmrufW7uO",
        "outputId": "e0a4f43b-8f7d-42db-81c6-9a37780b20df"
      },
      "source": [
        "( 2 == 2 ) and (2 != 5)"
      ],
      "execution_count": null,
      "outputs": [
        {
          "output_type": "execute_result",
          "data": {
            "text/plain": [
              "True"
            ]
          },
          "metadata": {},
          "execution_count": 49
        }
      ]
    },
    {
      "cell_type": "code",
      "metadata": {
        "colab": {
          "base_uri": "https://localhost:8080/"
        },
        "id": "_fjirlhRW5HO",
        "outputId": "34b71600-b40c-4f61-cd72-0b4c45385a1d"
      },
      "source": [
        "(1 != 4) or (3 >= 10)"
      ],
      "execution_count": null,
      "outputs": [
        {
          "output_type": "execute_result",
          "data": {
            "text/plain": [
              "True"
            ]
          },
          "metadata": {},
          "execution_count": 51
        }
      ]
    },
    {
      "cell_type": "code",
      "metadata": {
        "colab": {
          "base_uri": "https://localhost:8080/"
        },
        "id": "30dI3b4GW5Co",
        "outputId": "21bbf01c-9225-4b3e-8d46-da4933bc1384"
      },
      "source": [
        "(1 == 2) or (4 == 4)"
      ],
      "execution_count": null,
      "outputs": [
        {
          "output_type": "execute_result",
          "data": {
            "text/plain": [
              "True"
            ]
          },
          "metadata": {},
          "execution_count": 53
        }
      ]
    },
    {
      "cell_type": "code",
      "metadata": {
        "colab": {
          "base_uri": "https://localhost:8080/"
        },
        "id": "gOeLRQfkX_pC",
        "outputId": "743bc5b1-cfac-4bb9-fad6-e626ae25c503"
      },
      "source": [
        "#False or true 는 true\n",
        "(1 == 1) and (3 > 3) or (2 != 7)"
      ],
      "execution_count": null,
      "outputs": [
        {
          "output_type": "execute_result",
          "data": {
            "text/plain": [
              "True"
            ]
          },
          "metadata": {},
          "execution_count": 56
        }
      ]
    },
    {
      "cell_type": "code",
      "metadata": {
        "colab": {
          "base_uri": "https://localhost:8080/"
        },
        "id": "xZy4UTttYN1g",
        "outputId": "8570e4bd-7947-4a8a-c236-f6577fe3ea64"
      },
      "source": [
        "#False and true 는 false (and는 둘다 같아야만 true)\n",
        "(1 != 1) and ((3 > 3) or (2 != 7))"
      ],
      "execution_count": null,
      "outputs": [
        {
          "output_type": "execute_result",
          "data": {
            "text/plain": [
              "False"
            ]
          },
          "metadata": {},
          "execution_count": 58
        }
      ]
    },
    {
      "cell_type": "code",
      "metadata": {
        "colab": {
          "base_uri": "https://localhost:8080/"
        },
        "id": "K2RMMEYGYlZ2",
        "outputId": "090b2458-18d1-4f53-ce9f-2240071f8497"
      },
      "source": [
        "print(not 1 == 1)\n",
        "print(not 1 != 2)\n",
        "print(not 2 == 1)"
      ],
      "execution_count": null,
      "outputs": [
        {
          "output_type": "stream",
          "name": "stdout",
          "text": [
            "False\n",
            "False\n",
            "True\n"
          ]
        }
      ]
    },
    {
      "cell_type": "markdown",
      "metadata": {
        "id": "Tl5hqXgkZU8s"
      },
      "source": [
        "###if, elif, else statement"
      ]
    },
    {
      "cell_type": "code",
      "metadata": {
        "colab": {
          "base_uri": "https://localhost:8080/"
        },
        "id": "Qz4weKFPY5_2",
        "outputId": "eb9dc2ef-596c-4a17-fc1a-19985a00fc12"
      },
      "source": [
        "if 1 < 2:\n",
        "  print('yeah!')"
      ],
      "execution_count": null,
      "outputs": [
        {
          "output_type": "stream",
          "name": "stdout",
          "text": [
            "yeah!\n"
          ]
        }
      ]
    },
    {
      "cell_type": "code",
      "metadata": {
        "id": "fIk6snf9ZI06"
      },
      "source": [
        "if 1 > 2:\n",
        "  print('yeah!')"
      ],
      "execution_count": null,
      "outputs": []
    },
    {
      "cell_type": "code",
      "metadata": {
        "colab": {
          "base_uri": "https://localhost:8080/"
        },
        "id": "iicaSHzjZIsO",
        "outputId": "b3e4e6dc-c10c-4748-c7a7-539746dc3843"
      },
      "source": [
        "if 1 < 2:\n",
        "  print('first')\n",
        "else: \n",
        "  print('last')\n",
        "print('hello')"
      ],
      "execution_count": null,
      "outputs": [
        {
          "output_type": "stream",
          "name": "stdout",
          "text": [
            "first\n",
            "hello\n"
          ]
        }
      ]
    },
    {
      "cell_type": "code",
      "metadata": {
        "colab": {
          "base_uri": "https://localhost:8080/"
        },
        "id": "nQjou1zcaKF6",
        "outputId": "d28c4087-2a7f-4664-836f-5dd59f2cab2b"
      },
      "source": [
        "if 1 < 2:\n",
        "  print('first')\n",
        "else: \n",
        "  print('last')\n",
        "  print('hello')"
      ],
      "execution_count": null,
      "outputs": [
        {
          "output_type": "stream",
          "name": "stdout",
          "text": [
            "first\n"
          ]
        }
      ]
    },
    {
      "cell_type": "code",
      "metadata": {
        "colab": {
          "base_uri": "https://localhost:8080/"
        },
        "id": "5ymMaLWEaKBV",
        "outputId": "61e0e40a-9aa5-40bc-cc65-3671f447208e"
      },
      "source": [
        "if 1 > 2:\n",
        "  print('first')\n",
        "else:\n",
        "  print('last')"
      ],
      "execution_count": null,
      "outputs": [
        {
          "output_type": "stream",
          "name": "stdout",
          "text": [
            "last\n"
          ]
        }
      ]
    },
    {
      "cell_type": "code",
      "metadata": {
        "colab": {
          "base_uri": "https://localhost:8080/"
        },
        "id": "Zkecht3xaJ8f",
        "outputId": "04298923-6d61-40c6-df04-280614176ab7"
      },
      "source": [
        "#elif = 두번째 if\n",
        "#else = 그 외 나머지\n",
        "if (1 == 2):\n",
        "  print('first')\n",
        "elif (3 == 3):\n",
        "  print('middle')\n",
        "else:\n",
        "  print('last')"
      ],
      "execution_count": null,
      "outputs": [
        {
          "output_type": "stream",
          "name": "stdout",
          "text": [
            "middle\n"
          ]
        }
      ]
    },
    {
      "cell_type": "code",
      "metadata": {
        "id": "aMgzzJeDaJ5t"
      },
      "source": [
        "#write a program that has a variable called temperature and prints \"its a nice weather\"\n",
        "#if temperature is between 15 to 24 degrees.\n",
        "temperature = 24"
      ],
      "execution_count": null,
      "outputs": []
    },
    {
      "cell_type": "code",
      "metadata": {
        "colab": {
          "base_uri": "https://localhost:8080/",
          "height": 134
        },
        "id": "txsTEQTFdtMQ",
        "outputId": "d872feb4-fab6-4c89-f4c4-ad9c60ab74a7"
      },
      "source": [
        "temperature >= 15,\n",
        "temperature <= 24\n",
        "\n",
        "if (temperature > 15):\n",
        "  print(\"its a nice weather\")\n",
        "  elif (temperature) < 24)\n",
        "  print(\"its a nice weather\")"
      ],
      "execution_count": null,
      "outputs": [
        {
          "output_type": "error",
          "ename": "SyntaxError",
          "evalue": "ignored",
          "traceback": [
            "\u001b[0;36m  File \u001b[0;32m\"<ipython-input-85-04f0118baa5b>\"\u001b[0;36m, line \u001b[0;32m6\u001b[0m\n\u001b[0;31m    elif (temperature) < 24)\u001b[0m\n\u001b[0m       ^\u001b[0m\n\u001b[0;31mSyntaxError\u001b[0m\u001b[0;31m:\u001b[0m invalid syntax\n"
          ]
        }
      ]
    },
    {
      "cell_type": "code",
      "metadata": {
        "colab": {
          "base_uri": "https://localhost:8080/"
        },
        "id": "zKQGlNxtb58G",
        "outputId": "837f3fa1-6a98-4de2-f1ac-21e21a37e8f1"
      },
      "source": [
        "temperature = 24\n",
        "if ( 15<= temperature <= 24):\n",
        "  print(\"Its a nice weather\")"
      ],
      "execution_count": null,
      "outputs": [
        {
          "output_type": "stream",
          "name": "stdout",
          "text": [
            "its a nice weather\n"
          ]
        }
      ]
    },
    {
      "cell_type": "markdown",
      "metadata": {
        "id": "q4ebwyc8hClU"
      },
      "source": [
        "###For Loops"
      ]
    },
    {
      "cell_type": "code",
      "metadata": {
        "id": "cwiu2WXnaJ3R"
      },
      "source": [
        "seq = [1,2,3,4,5]"
      ],
      "execution_count": null,
      "outputs": []
    },
    {
      "cell_type": "code",
      "metadata": {
        "colab": {
          "base_uri": "https://localhost:8080/"
        },
        "id": "UnjeBUSVhlNd",
        "outputId": "10a609e8-e66f-48f3-ec26-dc52a0327935"
      },
      "source": [
        "for i in seq:\n",
        "  print(i)\n",
        "print('Goodbye')\n",
        "print('hello')"
      ],
      "execution_count": null,
      "outputs": [
        {
          "output_type": "stream",
          "name": "stdout",
          "text": [
            "1\n",
            "2\n",
            "3\n",
            "4\n",
            "5\n",
            "Goodbye\n",
            "hello\n"
          ]
        }
      ]
    },
    {
      "cell_type": "code",
      "metadata": {
        "colab": {
          "base_uri": "https://localhost:8080/"
        },
        "id": "CJpoVtUiiYoW",
        "outputId": "19564b67-c085-42f7-a305-79b89bc41ae2"
      },
      "source": [
        "for i in seq:\n",
        "  print(i)\n",
        "\n",
        "  print('Goodbye')\n",
        "  print('hello')"
      ],
      "execution_count": null,
      "outputs": [
        {
          "output_type": "stream",
          "name": "stdout",
          "text": [
            "1\n",
            "Goodbye\n",
            "hello\n",
            "2\n",
            "Goodbye\n",
            "hello\n",
            "3\n",
            "Goodbye\n",
            "hello\n",
            "4\n",
            "Goodbye\n",
            "hello\n",
            "5\n",
            "Goodbye\n",
            "hello\n"
          ]
        }
      ]
    },
    {
      "cell_type": "code",
      "metadata": {
        "colab": {
          "base_uri": "https://localhost:8080/"
        },
        "id": "-1Bxzgf8i3tk",
        "outputId": "bdaa0ac7-c115-4c5c-aa08-cc9d4d4a3f01"
      },
      "source": [
        "for i in seq:\n",
        "  print('yeah!')"
      ],
      "execution_count": null,
      "outputs": [
        {
          "output_type": "stream",
          "name": "stdout",
          "text": [
            "yeah!\n",
            "yeah!\n",
            "yeah!\n",
            "yeah!\n",
            "yeah!\n"
          ]
        }
      ]
    },
    {
      "cell_type": "code",
      "metadata": {
        "colab": {
          "base_uri": "https://localhost:8080/"
        },
        "id": "i1ELXhali-sB",
        "outputId": "4617156d-e4d8-4d36-feaf-d5bd741fc40c"
      },
      "source": [
        "for j in seq:\n",
        "  print(j+j)"
      ],
      "execution_count": null,
      "outputs": [
        {
          "output_type": "stream",
          "name": "stdout",
          "text": [
            "2\n",
            "4\n",
            "6\n",
            "8\n",
            "10\n"
          ]
        }
      ]
    },
    {
      "cell_type": "code",
      "metadata": {
        "colab": {
          "base_uri": "https://localhost:8080/"
        },
        "id": "p5lOqw2wi9n8",
        "outputId": "23a55c8d-69ea-4c41-fe97-013e20a84c6b"
      },
      "source": [
        "#nested Loops\n",
        "#seq = [1,2,3,4,5]\n",
        "for i in seq: #\"outer Loop\"\n",
        "  print(\"outer Loop\")\n",
        "  for j in seq: #\"inner Loop\" \n",
        "   print(\"i = {}, seq_index = {} -- j = {}, seq_index = {}\".format(i,seq.index(i),j,seq.index(j)))\n",
        "\n",
        "print('end')"
      ],
      "execution_count": null,
      "outputs": [
        {
          "output_type": "stream",
          "name": "stdout",
          "text": [
            "outer Loop\n",
            "i = 1, seq_index = 0 -- j = 1, seq_index = 0\n",
            "i = 1, seq_index = 0 -- j = 2, seq_index = 1\n",
            "i = 1, seq_index = 0 -- j = 3, seq_index = 2\n",
            "i = 1, seq_index = 0 -- j = 4, seq_index = 3\n",
            "i = 1, seq_index = 0 -- j = 5, seq_index = 4\n",
            "outer Loop\n",
            "i = 2, seq_index = 1 -- j = 1, seq_index = 0\n",
            "i = 2, seq_index = 1 -- j = 2, seq_index = 1\n",
            "i = 2, seq_index = 1 -- j = 3, seq_index = 2\n",
            "i = 2, seq_index = 1 -- j = 4, seq_index = 3\n",
            "i = 2, seq_index = 1 -- j = 5, seq_index = 4\n",
            "outer Loop\n",
            "i = 3, seq_index = 2 -- j = 1, seq_index = 0\n",
            "i = 3, seq_index = 2 -- j = 2, seq_index = 1\n",
            "i = 3, seq_index = 2 -- j = 3, seq_index = 2\n",
            "i = 3, seq_index = 2 -- j = 4, seq_index = 3\n",
            "i = 3, seq_index = 2 -- j = 5, seq_index = 4\n",
            "outer Loop\n",
            "i = 4, seq_index = 3 -- j = 1, seq_index = 0\n",
            "i = 4, seq_index = 3 -- j = 2, seq_index = 1\n",
            "i = 4, seq_index = 3 -- j = 3, seq_index = 2\n",
            "i = 4, seq_index = 3 -- j = 4, seq_index = 3\n",
            "i = 4, seq_index = 3 -- j = 5, seq_index = 4\n",
            "outer Loop\n",
            "i = 5, seq_index = 4 -- j = 1, seq_index = 0\n",
            "i = 5, seq_index = 4 -- j = 2, seq_index = 1\n",
            "i = 5, seq_index = 4 -- j = 3, seq_index = 2\n",
            "i = 5, seq_index = 4 -- j = 4, seq_index = 3\n",
            "i = 5, seq_index = 4 -- j = 5, seq_index = 4\n",
            "end\n"
          ]
        }
      ]
    },
    {
      "cell_type": "code",
      "metadata": {
        "id": "CLoP2Ostjuuu"
      },
      "source": [
        "#Print each item of the following list: ['Temperature', 'Wind_speed','Humidity','is Cloudy']"
      ],
      "execution_count": null,
      "outputs": []
    },
    {
      "cell_type": "code",
      "metadata": {
        "id": "oQWFStdBjurx"
      },
      "source": [
        "for i in seq: #\"outer Loop\"\n",
        "  print(\"outer Loop\")\n",
        "  for j in seq: #\"inner Loop\" \n",
        "   print(\"i = {}, seq_index = {} -- j = {}, seq_index = {}\".format(i,seq.index(i),j,seq.index(j)))\n",
        "\n",
        "print('end')"
      ],
      "execution_count": null,
      "outputs": []
    },
    {
      "cell_type": "code",
      "metadata": {
        "colab": {
          "base_uri": "https://localhost:8080/"
        },
        "id": "LcsprlvUi9jH",
        "outputId": "0f5afcd7-8abc-4523-f960-3703120c0929"
      },
      "source": [
        "['Temperature', 'Wind_speed','Humidity','is Cloudy']"
      ],
      "execution_count": null,
      "outputs": [
        {
          "output_type": "execute_result",
          "data": {
            "text/plain": [
              "['Temperature', 'Wind_speed', 'Humidity', 'is Cloudy']"
            ]
          },
          "metadata": {},
          "execution_count": 103
        }
      ]
    },
    {
      "cell_type": "code",
      "metadata": {
        "colab": {
          "base_uri": "https://localhost:8080/"
        },
        "id": "9yv-i1Rki9gS",
        "outputId": "befde4e0-9653-4136-b715-51986056d86f"
      },
      "source": [
        "for i in ['Temperature', 'Wind_speed', 'Humidity', 'is_Cloudy']:\n",
        "  print(i)"
      ],
      "execution_count": null,
      "outputs": [
        {
          "output_type": "stream",
          "name": "stdout",
          "text": [
            "Temperature\n",
            "Wind_speed\n",
            "Humidity\n",
            "is_Cloudy\n"
          ]
        }
      ]
    },
    {
      "cell_type": "code",
      "metadata": {
        "id": "HyfHs0tYo2Qz"
      },
      "source": [
        "#break\n",
        "fruits = ['apple', 'banana', 'cherry']"
      ],
      "execution_count": null,
      "outputs": []
    },
    {
      "cell_type": "code",
      "metadata": {
        "colab": {
          "base_uri": "https://localhost:8080/"
        },
        "id": "JrKfd5ZCo2An",
        "outputId": "e7649af0-37e6-4e6d-fa84-277ebd0564d5"
      },
      "source": [
        "for f in fruits:\n",
        "  print(f)\n",
        "  if f == 'banana':\n",
        "    break"
      ],
      "execution_count": null,
      "outputs": [
        {
          "output_type": "stream",
          "name": "stdout",
          "text": [
            "apple\n",
            "banana\n"
          ]
        }
      ]
    },
    {
      "cell_type": "code",
      "metadata": {
        "colab": {
          "base_uri": "https://localhost:8080/"
        },
        "id": "GEC69iUBpeQR",
        "outputId": "57b94464-31a7-4693-d32e-e356fdfdd3b6"
      },
      "source": [
        "for f in fruits:\n",
        "  if (f == 'banana'):\n",
        "    break\n",
        "  print(f)"
      ],
      "execution_count": null,
      "outputs": [
        {
          "output_type": "stream",
          "name": "stdout",
          "text": [
            "apple\n"
          ]
        }
      ]
    },
    {
      "cell_type": "code",
      "metadata": {
        "colab": {
          "base_uri": "https://localhost:8080/"
        },
        "id": "hOSNT6jWp6se",
        "outputId": "5ac9d31e-44bb-464c-ae2a-fbf7a2e6f744"
      },
      "source": [
        "#continue\n",
        "\n",
        "for f in fruits:\n",
        "  if (f == 'banana'):\n",
        "    continue\n",
        "  print(f)"
      ],
      "execution_count": null,
      "outputs": [
        {
          "output_type": "stream",
          "name": "stdout",
          "text": [
            "apple\n",
            "cherry\n"
          ]
        }
      ]
    },
    {
      "cell_type": "code",
      "metadata": {
        "id": "ljdNPSFcqdSY"
      },
      "source": [
        "#ex2) print each adjective for every fruit\n",
        "\n",
        "adj = ['red', 'big', 'tasty']\n",
        "fruits = ['apple', 'grape', 'strawberry']\n",
        "\n"
      ],
      "execution_count": null,
      "outputs": []
    },
    {
      "cell_type": "code",
      "metadata": {
        "colab": {
          "base_uri": "https://localhost:8080/"
        },
        "id": "0DpvgB-uXthx",
        "outputId": "22037d90-81b0-491b-e9f0-fdcdbd00a9b7"
      },
      "source": [
        "adj = ['red', 'big', 'tasty']\n",
        "fruits = ['apple', 'grape', 'strawberry']\n",
        "\n",
        "for i in adj:\n",
        " for j in fruits:\n",
        "   print(i,j)"
      ],
      "execution_count": null,
      "outputs": [
        {
          "output_type": "stream",
          "name": "stdout",
          "text": [
            "red apple\n",
            "red grape\n",
            "red strawberry\n",
            "big apple\n",
            "big grape\n",
            "big strawberry\n",
            "tasty apple\n",
            "tasty grape\n",
            "tasty strawberry\n"
          ]
        }
      ]
    },
    {
      "cell_type": "code",
      "metadata": {
        "id": "IE0M0vfYU2ZX"
      },
      "source": [
        "#ex1) print each item of the following list ['temperate','humiddity','cloudy']"
      ],
      "execution_count": null,
      "outputs": []
    },
    {
      "cell_type": "code",
      "metadata": {
        "id": "t9EsekXgNV6q",
        "colab": {
          "base_uri": "https://localhost:8080/"
        },
        "outputId": "785aed9a-6a20-4287-d02c-eceabf20f65d"
      },
      "source": [
        "for i in ['temperate','humiddity','cloudy']:\n",
        " print(i)"
      ],
      "execution_count": null,
      "outputs": [
        {
          "output_type": "stream",
          "name": "stdout",
          "text": [
            "temperate\n",
            "humiddity\n",
            "cloudy\n"
          ]
        }
      ]
    },
    {
      "cell_type": "markdown",
      "metadata": {
        "id": "U1G2P38vOqrZ"
      },
      "source": [
        "### while loops"
      ]
    },
    {
      "cell_type": "code",
      "metadata": {
        "id": "eGuwYBdRNawZ"
      },
      "source": [
        "#sintax\n",
        "\n",
        "  # while (expression):\n",
        "   # Body of while"
      ],
      "execution_count": null,
      "outputs": []
    },
    {
      "cell_type": "code",
      "metadata": {
        "id": "yqXWKF9GO7lR",
        "colab": {
          "base_uri": "https://localhost:8080/"
        },
        "outputId": "0180a111-08ed-4d08-cf49-3d36919da670"
      },
      "source": [
        "# print numbers from 1 to 4\n",
        "i = 1\n",
        "while (i < 5): #(i <= 4)\n",
        "  print('i is: {}'.format(i))\n",
        "  i = i + 1"
      ],
      "execution_count": null,
      "outputs": [
        {
          "output_type": "stream",
          "name": "stdout",
          "text": [
            "i is: 1\n",
            "i is: 2\n",
            "i is: 3\n",
            "i is: 4\n"
          ]
        }
      ]
    },
    {
      "cell_type": "code",
      "metadata": {
        "id": "n1zbUwrLPk_J",
        "colab": {
          "base_uri": "https://localhost:8080/"
        },
        "outputId": "74191c5f-f7a0-4960-f29b-bd9efe0ee7f8"
      },
      "source": [
        "# program that add natural numbers up to n = 5\n",
        "# sum = 1 + 2 + 3 + 4 + 5\n",
        "# use while loop\n",
        "\n",
        "sum = 0\n",
        "i = 1\n",
        "n = 5\n",
        "\n",
        "while ( i <= n ):\n",
        "  sum = sum + i \n",
        "  i = i + 1\n",
        "\n",
        "  print('the value of variable sum is:', sum)\n"
      ],
      "execution_count": null,
      "outputs": [
        {
          "output_type": "stream",
          "name": "stdout",
          "text": [
            "the value of variable sum is: 1\n",
            "the value of variable sum is: 3\n",
            "the value of variable sum is: 6\n",
            "the value of variable sum is: 10\n",
            "the value of variable sum is: 15\n"
          ]
        }
      ]
    },
    {
      "cell_type": "code",
      "metadata": {
        "id": "JC3W5CrgRvlx",
        "colab": {
          "base_uri": "https://localhost:8080/"
        },
        "outputId": "cb42690b-33c9-464c-e38c-2115b6df1847"
      },
      "source": [
        "\n",
        "sum = 0\n",
        "i = 1\n",
        "n = 5\n",
        "\n",
        "while ( i <= n ):\n",
        "  sum = sum + i \n",
        "  i = i + 1\n",
        "\n",
        "print('the value of variable sum is:', sum)"
      ],
      "execution_count": null,
      "outputs": [
        {
          "output_type": "stream",
          "name": "stdout",
          "text": [
            "the value of variable sum is: 15\n"
          ]
        }
      ]
    },
    {
      "cell_type": "code",
      "metadata": {
        "id": "PryhPETDUUUP",
        "colab": {
          "base_uri": "https://localhost:8080/"
        },
        "outputId": "e902b557-e9ac-48dc-fb64-7e4f1e555e48"
      },
      "source": [
        "i = 0\n",
        "while i < 5:\n",
        "  print('inside of the while loop',i)\n",
        "  i=i+1\n",
        "\n",
        "print('outside of the while loop')"
      ],
      "execution_count": null,
      "outputs": [
        {
          "output_type": "stream",
          "name": "stdout",
          "text": [
            "inside of the while loop 0\n",
            "inside of the while loop 1\n",
            "inside of the while loop 2\n",
            "inside of the while loop 3\n",
            "inside of the while loop 4\n",
            "outside of the while loop\n"
          ]
        }
      ]
    },
    {
      "cell_type": "code",
      "metadata": {
        "id": "ThRd3EgxSWUE",
        "colab": {
          "base_uri": "https://localhost:8080/"
        },
        "outputId": "232997bd-ab81-4271-b511-245fed1cef7f"
      },
      "source": [
        "i = 0\n",
        "while i < 5:\n",
        "  print('inside of the while loop',i)\n",
        "  i=i+1\n",
        "\n",
        "print('outside of the while loop')"
      ],
      "execution_count": null,
      "outputs": [
        {
          "output_type": "stream",
          "name": "stdout",
          "text": [
            "inside of the while loop 0\n",
            "inside of the while loop 1\n",
            "inside of the while loop 2\n",
            "inside of the while loop 3\n",
            "inside of the while loop 4\n",
            "outside of the while loop\n"
          ]
        }
      ]
    },
    {
      "cell_type": "code",
      "metadata": {
        "id": "gc5P-y2jSV8q",
        "colab": {
          "base_uri": "https://localhost:8080/"
        },
        "outputId": "64ceaecb-d17e-4254-eda8-032ce6a69440"
      },
      "source": [
        "# ex3)- 내 답 print i as long as i is less than 6 using while statement\n",
        "i = 0\n",
        "while i < 5:\n",
        " i = i+1\n",
        "\n",
        " print(i)"
      ],
      "execution_count": null,
      "outputs": [
        {
          "output_type": "stream",
          "name": "stdout",
          "text": [
            "1\n",
            "2\n",
            "3\n",
            "4\n",
            "5\n"
          ]
        }
      ]
    },
    {
      "cell_type": "code",
      "metadata": {
        "id": "1H7XD2ngSV6A",
        "colab": {
          "base_uri": "https://localhost:8080/"
        },
        "outputId": "5d48bd27-949c-4094-b218-9ad7d7313bf2"
      },
      "source": [
        "# ex3)-교수님 답 print i as long as i is less than 6 using while statement\n",
        "i = 0\n",
        "while i < 6:\n",
        " print(i)\n",
        " i = i+1\n",
        "\n"
      ],
      "execution_count": null,
      "outputs": [
        {
          "output_type": "stream",
          "name": "stdout",
          "text": [
            "0\n",
            "1\n",
            "2\n",
            "3\n",
            "4\n",
            "5\n"
          ]
        }
      ]
    },
    {
      "cell_type": "code",
      "metadata": {
        "id": "hcYHYaiESV3J",
        "colab": {
          "base_uri": "https://localhost:8080/"
        },
        "outputId": "28006bab-ab77-43b1-a1b5-18d34511877b"
      },
      "source": [
        "# continue, break\n",
        "# not to print the value of 3\n",
        "\n",
        "i = 0\n",
        "while i < 6: \n",
        "  if (i == 3):\n",
        "   i = i+1 \n",
        "   break\n",
        "  print('the value of i is:',i)\n",
        "  i = i+1"
      ],
      "execution_count": null,
      "outputs": [
        {
          "output_type": "stream",
          "name": "stdout",
          "text": [
            "the value of i is: 0\n",
            "the value of i is: 1\n",
            "the value of i is: 2\n"
          ]
        }
      ]
    },
    {
      "cell_type": "code",
      "metadata": {
        "id": "KOvyDJ7YSV0a",
        "colab": {
          "base_uri": "https://localhost:8080/"
        },
        "outputId": "4c66001b-baaf-4433-ef62-42b39c3284d2"
      },
      "source": [
        "# not to print the value of 3\n",
        "\n",
        "i = 0\n",
        "while i < 6: \n",
        "  if (i != 3):\n",
        "   print('the value of i is:',i)\n",
        "  i = i+1"
      ],
      "execution_count": null,
      "outputs": [
        {
          "output_type": "stream",
          "name": "stdout",
          "text": [
            "the value of i is: 0\n",
            "the value of i is: 1\n",
            "the value of i is: 2\n",
            "the value of i is: 4\n",
            "the value of i is: 5\n"
          ]
        }
      ]
    },
    {
      "cell_type": "markdown",
      "metadata": {
        "id": "AdeildizZ18q"
      },
      "source": [
        "###range()\n"
      ]
    },
    {
      "cell_type": "code",
      "metadata": {
        "id": "wZb7FvFCSVxm",
        "colab": {
          "base_uri": "https://localhost:8080/"
        },
        "outputId": "80a470ef-8f3f-4658-d5cc-f3372dd61d70"
      },
      "source": [
        "# sintax\n",
        "\n",
        "range(5)"
      ],
      "execution_count": null,
      "outputs": [
        {
          "output_type": "execute_result",
          "data": {
            "text/plain": [
              "range(0, 5)"
            ]
          },
          "metadata": {},
          "execution_count": 67
        }
      ]
    },
    {
      "cell_type": "code",
      "metadata": {
        "id": "3TLCsGB_SVu0",
        "colab": {
          "base_uri": "https://localhost:8080/"
        },
        "outputId": "1f86bbe2-5231-4a21-fc2e-eb9c0527491b"
      },
      "source": [
        "for i in range(5): #[0,1,2,3,4]\n",
        "  print(i)"
      ],
      "execution_count": null,
      "outputs": [
        {
          "output_type": "stream",
          "name": "stdout",
          "text": [
            "0\n",
            "1\n",
            "2\n",
            "3\n",
            "4\n"
          ]
        }
      ]
    },
    {
      "cell_type": "code",
      "metadata": {
        "id": "LIrjjRuaaXOQ",
        "colab": {
          "base_uri": "https://localhost:8080/"
        },
        "outputId": "37425453-51ee-4629-a796-55f3b63de315"
      },
      "source": [
        "#start number\n",
        "for i in range(2,6): #[2,3,4,5]\n",
        " print(i)"
      ],
      "execution_count": null,
      "outputs": [
        {
          "output_type": "stream",
          "name": "stdout",
          "text": [
            "2\n",
            "3\n",
            "4\n",
            "5\n"
          ]
        }
      ]
    },
    {
      "cell_type": "code",
      "metadata": {
        "id": "UGYEE1haaZbW",
        "colab": {
          "base_uri": "https://localhost:8080/"
        },
        "outputId": "ec72e527-c6f7-4b53-c648-8a8cdaae2c11"
      },
      "source": [
        "#different increment\n",
        "for i in range(2,30,3): #(시작,도달,더하는 수)\n",
        " print(i)"
      ],
      "execution_count": null,
      "outputs": [
        {
          "output_type": "stream",
          "name": "stdout",
          "text": [
            "2\n",
            "5\n",
            "8\n",
            "11\n",
            "14\n",
            "17\n",
            "20\n",
            "23\n",
            "26\n",
            "29\n"
          ]
        }
      ]
    },
    {
      "cell_type": "code",
      "metadata": {
        "id": "P3MEz0OGaZSU"
      },
      "source": [
        "#ex4) print all the numbers from 2 to 20 by incrementing 2\n",
        "# using range function"
      ],
      "execution_count": null,
      "outputs": []
    },
    {
      "cell_type": "code",
      "metadata": {
        "id": "ILbdO8rwaZP8",
        "colab": {
          "base_uri": "https://localhost:8080/"
        },
        "outputId": "952363e4-aaf1-4ad7-d8b5-6057385f2622"
      },
      "source": [
        "for i in range(2,21,2): #20까지니까 끝자리수는 n+1인 21을 적어야 한다.\n",
        " print(i)"
      ],
      "execution_count": null,
      "outputs": [
        {
          "output_type": "stream",
          "name": "stdout",
          "text": [
            "2\n",
            "4\n",
            "6\n",
            "8\n",
            "10\n",
            "12\n",
            "14\n",
            "16\n",
            "18\n",
            "20\n"
          ]
        }
      ]
    },
    {
      "cell_type": "code",
      "metadata": {
        "id": "eu6pyxx4aZNH",
        "colab": {
          "base_uri": "https://localhost:8080/"
        },
        "outputId": "ec931f07-7d5a-4cb9-93e9-ec6e2ae2ed4f"
      },
      "source": [
        "list(range(5))"
      ],
      "execution_count": null,
      "outputs": [
        {
          "output_type": "execute_result",
          "data": {
            "text/plain": [
              "[0, 1, 2, 3, 4]"
            ]
          },
          "metadata": {},
          "execution_count": 77
        }
      ]
    },
    {
      "cell_type": "code",
      "metadata": {
        "id": "-umNLi5naZKi",
        "colab": {
          "base_uri": "https://localhost:8080/"
        },
        "outputId": "2ae75980-4852-4ca4-988a-25782c289efc"
      },
      "source": [
        "list(range(2,21,2))"
      ],
      "execution_count": null,
      "outputs": [
        {
          "output_type": "execute_result",
          "data": {
            "text/plain": [
              "[2, 4, 6, 8, 10, 12, 14, 16, 18, 20]"
            ]
          },
          "metadata": {},
          "execution_count": 78
        }
      ]
    },
    {
      "cell_type": "markdown",
      "metadata": {
        "id": "w5NiCHB5deoS"
      },
      "source": [
        "###Functions"
      ]
    },
    {
      "cell_type": "code",
      "metadata": {
        "id": "4aNytNi4aZIT"
      },
      "source": [
        "#1 term \"parameter\" the variable inside of the parentesis in the function definition\n",
        "# 함수 정의에서 모계 내부의 변수 \"매개변수\"\n",
        "#2nd term \"argument\" is the value that is sent to the function when it is called.\n",
        "# 2번째 항은 함수 호출 시 전송되는 값."
      ],
      "execution_count": null,
      "outputs": []
    },
    {
      "cell_type": "code",
      "metadata": {
        "id": "3cASsDtwePNl"
      },
      "source": [
        "#sintax\n",
        "def my_func(param1 ='default'): #param1 is a parameter\n",
        "  print(param1)"
      ],
      "execution_count": null,
      "outputs": []
    },
    {
      "cell_type": "code",
      "metadata": {
        "id": "UGqBkIHJet5w",
        "colab": {
          "base_uri": "https://localhost:8080/"
        },
        "outputId": "c33d2479-cb3f-413c-9211-afb5ed98572e"
      },
      "source": [
        "my_func"
      ],
      "execution_count": null,
      "outputs": [
        {
          "output_type": "execute_result",
          "data": {
            "text/plain": [
              "<function __main__.my_func>"
            ]
          },
          "metadata": {},
          "execution_count": 81
        }
      ]
    },
    {
      "cell_type": "code",
      "metadata": {
        "id": "Q-1aFQDZet2c",
        "colab": {
          "base_uri": "https://localhost:8080/"
        },
        "outputId": "f716c18b-586e-4ba4-9063-61f39b7bc95a"
      },
      "source": [
        "my_func()"
      ],
      "execution_count": null,
      "outputs": [
        {
          "output_type": "stream",
          "name": "stdout",
          "text": [
            "default\n"
          ]
        }
      ]
    },
    {
      "cell_type": "code",
      "metadata": {
        "id": "QaIYdIXoet0K",
        "colab": {
          "base_uri": "https://localhost:8080/"
        },
        "outputId": "2bae2542-5848-4472-a226-6095ab3fe5a1"
      },
      "source": [
        "my_func('new argument') #this is an argument"
      ],
      "execution_count": null,
      "outputs": [
        {
          "output_type": "stream",
          "name": "stdout",
          "text": [
            "new argument\n"
          ]
        }
      ]
    },
    {
      "cell_type": "code",
      "metadata": {
        "id": "5mBRlnjgetxr",
        "colab": {
          "base_uri": "https://localhost:8080/"
        },
        "outputId": "e63ebffe-7791-4124-e8b9-695054bf2788"
      },
      "source": [
        "my_func('Hello world!')"
      ],
      "execution_count": null,
      "outputs": [
        {
          "output_type": "stream",
          "name": "stdout",
          "text": [
            "Hello world!\n"
          ]
        }
      ]
    },
    {
      "cell_type": "code",
      "metadata": {
        "id": "j82_c36wetvX"
      },
      "source": [
        "# write a function that returns the square of a number 수의 제곱을 반환하는 함수\n",
        "def square(n = 1):\n",
        "  return n **2"
      ],
      "execution_count": null,
      "outputs": []
    },
    {
      "cell_type": "code",
      "metadata": {
        "id": "VzVSy4zZf8NQ",
        "colab": {
          "base_uri": "https://localhost:8080/"
        },
        "outputId": "24c65d8e-02cc-4b2c-ed6f-5eb2c809c718"
      },
      "source": [
        "square() #빈칸은 1"
      ],
      "execution_count": null,
      "outputs": [
        {
          "output_type": "execute_result",
          "data": {
            "text/plain": [
              "1"
            ]
          },
          "metadata": {},
          "execution_count": 94
        }
      ]
    },
    {
      "cell_type": "code",
      "metadata": {
        "id": "5qgUVS3CettB",
        "colab": {
          "base_uri": "https://localhost:8080/"
        },
        "outputId": "860ecb00-488a-4138-a16d-5bf16b179812"
      },
      "source": [
        "square(2)"
      ],
      "execution_count": null,
      "outputs": [
        {
          "output_type": "execute_result",
          "data": {
            "text/plain": [
              "4"
            ]
          },
          "metadata": {},
          "execution_count": 95
        }
      ]
    },
    {
      "cell_type": "code",
      "metadata": {
        "id": "wpX5ue2NffpI"
      },
      "source": [
        "var_out = square(4)"
      ],
      "execution_count": null,
      "outputs": []
    },
    {
      "cell_type": "code",
      "metadata": {
        "id": "VzgyxRtvffmE",
        "colab": {
          "base_uri": "https://localhost:8080/"
        },
        "outputId": "75bf2545-df99-4116-f2bd-3406551cb002"
      },
      "source": [
        "print(var_out)"
      ],
      "execution_count": null,
      "outputs": [
        {
          "output_type": "stream",
          "name": "stdout",
          "text": [
            "16\n"
          ]
        }
      ]
    },
    {
      "cell_type": "code",
      "metadata": {
        "id": "_P_VDX3FffGT"
      },
      "source": [
        "# ex) create the function square_root for positive integers"
      ],
      "execution_count": null,
      "outputs": []
    },
    {
      "cell_type": "code",
      "metadata": {
        "id": "jKNTO-axjtds"
      },
      "source": [
        "#내가\n",
        "def square(n = 1):\n",
        "  return n **2\n",
        "  square_root = square()"
      ],
      "execution_count": null,
      "outputs": []
    },
    {
      "cell_type": "code",
      "metadata": {
        "id": "Vr5AGCc1ffBE"
      },
      "source": [
        "#교수님이\n",
        "def square_root(n):\n",
        "   return n ** (1/2) #루트"
      ],
      "execution_count": null,
      "outputs": []
    },
    {
      "cell_type": "code",
      "metadata": {
        "id": "3686Y3SFfe-w",
        "colab": {
          "base_uri": "https://localhost:8080/"
        },
        "outputId": "9ee5987a-3659-4009-d38f-e00a701e5611"
      },
      "source": [
        "square_root(16)"
      ],
      "execution_count": null,
      "outputs": [
        {
          "output_type": "execute_result",
          "data": {
            "text/plain": [
              "4.0"
            ]
          },
          "metadata": {},
          "execution_count": 110
        }
      ]
    },
    {
      "cell_type": "code",
      "metadata": {
        "id": "TFy1mJfWlaYz",
        "colab": {
          "base_uri": "https://localhost:8080/"
        },
        "outputId": "7085aeef-786f-4b68-a9d7-648a0a1a45b7"
      },
      "source": [
        "square_root(50)"
      ],
      "execution_count": null,
      "outputs": [
        {
          "output_type": "execute_result",
          "data": {
            "text/plain": [
              "7.0710678118654755"
            ]
          },
          "metadata": {},
          "execution_count": 111
        }
      ]
    },
    {
      "cell_type": "code",
      "metadata": {
        "id": "5D--xVHulejv"
      },
      "source": [
        "#ex iterate through a string using  a for loop,\n",
        "# transform the string into a list, each letter is an elment of he new list.\n",
        "#for 루프를 사용하여 문자열을 반복하고 문자열을 목록으로 변환,각각의 문자는 새로운 리스트의 결과\n",
        "# create a function str_list();"
      ],
      "execution_count": null,
      "outputs": []
    },
    {
      "cell_type": "markdown",
      "metadata": {
        "id": "-seQ8JAIpR9I"
      },
      "source": [
        ""
      ]
    },
    {
      "cell_type": "code",
      "metadata": {
        "id": "YzsWlwLIl_zr"
      },
      "source": [
        "#-내가 for i in range()\n",
        " # def function str_list(i):\n",
        " "
      ],
      "execution_count": null,
      "outputs": []
    },
    {
      "cell_type": "code",
      "metadata": {
        "id": "SSTdYvFflehM"
      },
      "source": [
        "#-교수님\n",
        "\n",
        "def str_list(param1 = 'hola'):\n",
        " lst_letters = []\n",
        " for letter in 'param1': #['h','o','l','a']\n",
        "  lst_letters.append(letter)\n",
        " return lst_letters"
      ],
      "execution_count": null,
      "outputs": []
    },
    {
      "cell_type": "code",
      "metadata": {
        "id": "ba42-9XVpBK3",
        "colab": {
          "base_uri": "https://localhost:8080/"
        },
        "outputId": "e240898c-2853-4c96-d6b2-81d0363de21c"
      },
      "source": [
        "str_list('Programing language')"
      ],
      "execution_count": null,
      "outputs": [
        {
          "output_type": "execute_result",
          "data": {
            "text/plain": [
              "['p', 'a', 'r', 'a', 'm', '1']"
            ]
          },
          "metadata": {},
          "execution_count": 127
        }
      ]
    },
    {
      "cell_type": "code",
      "metadata": {
        "id": "eC4Zhbialee2",
        "colab": {
          "base_uri": "https://localhost:8080/"
        },
        "outputId": "aea9a285-7efc-4f62-db09-f25b4193b77b"
      },
      "source": [
        "str_list('hello')"
      ],
      "execution_count": null,
      "outputs": [
        {
          "output_type": "execute_result",
          "data": {
            "text/plain": [
              "['p', 'a', 'r', 'a', 'm', '1']"
            ]
          },
          "metadata": {},
          "execution_count": 128
        }
      ]
    },
    {
      "cell_type": "code",
      "metadata": {
        "id": "HuOTHlpnlecX"
      },
      "source": [
        "#ex) based on fruit list, you want a new list new_fruits,\n",
        "# it will only contain the fruits with the letter 'a' in the name.\n",
        "# 과일 목록을 기준으로 새 목록을 원하는 경우 'a'자가 있는 과일만 담기\n",
        "# you have to create the function a_fruits().\n",
        "\n",
        "fruits = ['apple','banana', 'mango', 'strawberry', 'cherry', 'kiwi', 'coco']\n"
      ],
      "execution_count": null,
      "outputs": []
    },
    {
      "cell_type": "code",
      "metadata": {
        "id": "k1d6W20nleZ0"
      },
      "source": [
        "# - 내가 fruits = [\"apple\",\"banana\", \"mango\", \"strawberry\", \"cherry\", \"kiwi\", \"coco\"]\n",
        "# def a_fruits(select(contains \"a\"):"
      ],
      "execution_count": null,
      "outputs": []
    },
    {
      "cell_type": "code",
      "metadata": {
        "id": "vvIT8TsFleXN"
      },
      "source": [
        "# -교수님\n",
        "def a_fruits(x):\n",
        " new_fruits = []\n",
        " for i in fruits:\n",
        "   if 'a' in i:\n",
        "     new_fruits.append(i)\n",
        " return new_fruits\n"
      ],
      "execution_count": null,
      "outputs": []
    },
    {
      "cell_type": "code",
      "metadata": {
        "id": "ToZN6Bpxvix9",
        "colab": {
          "base_uri": "https://localhost:8080/"
        },
        "outputId": "083ea36d-d757-4d83-c642-87a5adf80270"
      },
      "source": [
        "a_fruits(fruits)"
      ],
      "execution_count": null,
      "outputs": [
        {
          "output_type": "execute_result",
          "data": {
            "text/plain": [
              "['apple', 'banana', 'mango', 'strawberry']"
            ]
          },
          "metadata": {},
          "execution_count": 155
        }
      ]
    },
    {
      "cell_type": "markdown",
      "metadata": {
        "id": "0WKYDCs7tsGf"
      },
      "source": [
        "### Numpy"
      ]
    },
    {
      "cell_type": "code",
      "metadata": {
        "id": "yjFqvM4TttAy"
      },
      "source": [
        "#conda install numpy\n",
        "#pip install numpy"
      ],
      "execution_count": null,
      "outputs": []
    },
    {
      "cell_type": "code",
      "metadata": {
        "id": "3h1zn4oEts9p"
      },
      "source": [
        "import numpy as np"
      ],
      "execution_count": null,
      "outputs": []
    },
    {
      "cell_type": "markdown",
      "metadata": {
        "id": "mAvP8H6lu7ce"
      },
      "source": [
        "### creating a numpy array"
      ]
    },
    {
      "cell_type": "code",
      "metadata": {
        "id": "kPbHsrqcu-BK",
        "colab": {
          "base_uri": "https://localhost:8080/"
        },
        "outputId": "e02cb2fc-ed70-45ed-cdec-86c5811ddf5d"
      },
      "source": [
        "# 0-dim array\n",
        "arr = np.array(42)\n",
        "print(arr)\n",
        "type(arr)"
      ],
      "execution_count": null,
      "outputs": [
        {
          "output_type": "stream",
          "name": "stdout",
          "text": [
            "42\n"
          ]
        },
        {
          "output_type": "execute_result",
          "data": {
            "text/plain": [
              "numpy.ndarray"
            ]
          },
          "metadata": {},
          "execution_count": 7
        }
      ]
    },
    {
      "cell_type": "code",
      "metadata": {
        "id": "MzmLoJ8ivczV",
        "colab": {
          "base_uri": "https://localhost:8080/"
        },
        "outputId": "06adaf85-41de-47dd-ca31-9f67bb9d87e8"
      },
      "source": [
        "# from list to array\n",
        "\n",
        "my_list = [1,2,3]\n",
        "print(my_list)"
      ],
      "execution_count": null,
      "outputs": [
        {
          "output_type": "stream",
          "name": "stdout",
          "text": [
            "[1, 2, 3]\n"
          ]
        }
      ]
    },
    {
      "cell_type": "code",
      "metadata": {
        "id": "L-Gg7PqGvjWI",
        "colab": {
          "base_uri": "https://localhost:8080/"
        },
        "outputId": "1bbbde98-d8e2-4d83-bf9c-822ebae068a8"
      },
      "source": [
        "# 1-D array\n",
        "np.array(my_list)"
      ],
      "execution_count": null,
      "outputs": [
        {
          "output_type": "execute_result",
          "data": {
            "text/plain": [
              "array([1, 2, 3])"
            ]
          },
          "metadata": {},
          "execution_count": 9
        }
      ]
    },
    {
      "cell_type": "code",
      "metadata": {
        "id": "uzQgLS0qvyBe",
        "colab": {
          "base_uri": "https://localhost:8080/"
        },
        "outputId": "2adbac1c-6d93-4cd4-d84f-28ec048dca17"
      },
      "source": [
        "# 2 - D arrays\n",
        "my_matrix = [[1,2,3],[4,5,6],[7,8,9]]\n",
        "print(my_matrix)"
      ],
      "execution_count": null,
      "outputs": [
        {
          "output_type": "stream",
          "name": "stdout",
          "text": [
            "[[1, 2, 3], [4, 5, 6], [7, 8, 9]]\n"
          ]
        }
      ]
    },
    {
      "cell_type": "code",
      "metadata": {
        "id": "gB-mnCYSwc5S",
        "colab": {
          "base_uri": "https://localhost:8080/"
        },
        "outputId": "7e23cc80-ae1c-45d8-a04c-82be8073dfc6"
      },
      "source": [
        "np.array(my_matrix)"
      ],
      "execution_count": null,
      "outputs": [
        {
          "output_type": "execute_result",
          "data": {
            "text/plain": [
              "array([[1, 2, 3],\n",
              "       [4, 5, 6],\n",
              "       [7, 8, 9]])"
            ]
          },
          "metadata": {},
          "execution_count": 11
        }
      ]
    },
    {
      "cell_type": "code",
      "metadata": {
        "id": "4eHO_ofTweU5",
        "colab": {
          "base_uri": "https://localhost:8080/"
        },
        "outputId": "cd229080-b18e-4ab9-a731-99352bb161d0"
      },
      "source": [
        "# Ex1) create a 3-D array with 2-D arrays, both contain two arrays wuith the value 1,2,3 and 4,5,6:\n",
        "#2차원 배열로 3차원 배열을 생성하며, 둘 다 값이 1,2,3 및 4,5,6인 2개의 배열을 포함합니다.\n",
        "import numpy as np\n",
        "lst = [[1,2,3],[4,5,6]],[[1,2,3],[4,5,6]]\n",
        "arr = np.array(lst)\n",
        "print(lst)"
      ],
      "execution_count": null,
      "outputs": [
        {
          "output_type": "stream",
          "name": "stdout",
          "text": [
            "([[1, 2, 3], [4, 5, 6]], [[1, 2, 3], [4, 5, 6]])\n"
          ]
        }
      ]
    },
    {
      "cell_type": "code",
      "metadata": {
        "id": "s-CpHtfRxD9l",
        "colab": {
          "base_uri": "https://localhost:8080/"
        },
        "outputId": "fb487375-3e3e-433b-8b44-0ea3bc664a58"
      },
      "source": [
        "# EX2) create a tuple from 1 to 10 and convert it to a numpy array:.\n",
        "#1부터 10까지의 튜플을 만들고 그것을 numpy 배열로 변환한다\n",
        "t= (1,2,3,4,5,6,7,8,9,10)\n",
        "arr = np.array(t)\n",
        "arr"
      ],
      "execution_count": null,
      "outputs": [
        {
          "output_type": "execute_result",
          "data": {
            "text/plain": [
              "array([ 1,  2,  3,  4,  5,  6,  7,  8,  9, 10])"
            ]
          },
          "metadata": {},
          "execution_count": 16
        }
      ]
    },
    {
      "cell_type": "markdown",
      "metadata": {
        "id": "5UDUaTlbxdgt"
      },
      "source": [
        "###Built "
      ]
    },
    {
      "cell_type": "markdown",
      "metadata": {
        "id": "p3dq4lgBWjsJ"
      },
      "source": [
        "###arange()"
      ]
    },
    {
      "cell_type": "code",
      "metadata": {
        "id": "WrF9GzlbWh_1",
        "colab": {
          "base_uri": "https://localhost:8080/"
        },
        "outputId": "f0bbd81c-584f-4d84-a9f1-3ebf44424a26"
      },
      "source": [
        "np.arange(0,10)"
      ],
      "execution_count": null,
      "outputs": [
        {
          "output_type": "execute_result",
          "data": {
            "text/plain": [
              "array([0, 1, 2, 3, 4, 5, 6, 7, 8, 9])"
            ]
          },
          "metadata": {},
          "execution_count": 9
        }
      ]
    },
    {
      "cell_type": "code",
      "metadata": {
        "id": "bcIaTIgGWh9Q",
        "colab": {
          "base_uri": "https://localhost:8080/"
        },
        "outputId": "98164091-800c-4d74-f94d-281a58a5771e"
      },
      "source": [
        "np.arange(0,11,2)"
      ],
      "execution_count": null,
      "outputs": [
        {
          "output_type": "execute_result",
          "data": {
            "text/plain": [
              "array([ 0,  2,  4,  6,  8, 10])"
            ]
          },
          "metadata": {},
          "execution_count": 10
        }
      ]
    },
    {
      "cell_type": "code",
      "metadata": {
        "id": "24Q--KQvWh6_",
        "colab": {
          "base_uri": "https://localhost:8080/"
        },
        "outputId": "6db502d7-a358-4bb5-baae-4b74441104cb"
      },
      "source": [
        "np.arange(1,15)"
      ],
      "execution_count": null,
      "outputs": [
        {
          "output_type": "execute_result",
          "data": {
            "text/plain": [
              "array([ 1,  2,  3,  4,  5,  6,  7,  8,  9, 10, 11, 12, 13, 14])"
            ]
          },
          "metadata": {},
          "execution_count": 11
        }
      ]
    },
    {
      "cell_type": "code",
      "metadata": {
        "id": "hWRII-WhWh4m",
        "colab": {
          "base_uri": "https://localhost:8080/"
        },
        "outputId": "51dfe379-7fed-4465-b157-3ee6d73171d2"
      },
      "source": [
        "np.arange(20) #0,...,19"
      ],
      "execution_count": null,
      "outputs": [
        {
          "output_type": "execute_result",
          "data": {
            "text/plain": [
              "array([ 0,  1,  2,  3,  4,  5,  6,  7,  8,  9, 10, 11, 12, 13, 14, 15, 16,\n",
              "       17, 18, 19])"
            ]
          },
          "metadata": {},
          "execution_count": 12
        }
      ]
    },
    {
      "cell_type": "code",
      "metadata": {
        "id": "b4GCU8-AWh2T",
        "colab": {
          "base_uri": "https://localhost:8080/"
        },
        "outputId": "6479e3cb-801d-496c-93f7-ae4f1f8a03cb"
      },
      "source": [
        "np.arange(5, 100, 5)"
      ],
      "execution_count": null,
      "outputs": [
        {
          "output_type": "execute_result",
          "data": {
            "text/plain": [
              "array([ 5, 10, 15, 20, 25, 30, 35, 40, 45, 50, 55, 60, 65, 70, 75, 80, 85,\n",
              "       90, 95])"
            ]
          },
          "metadata": {},
          "execution_count": 13
        }
      ]
    },
    {
      "cell_type": "code",
      "metadata": {
        "id": "azk2-FTSWVVT",
        "colab": {
          "base_uri": "https://localhost:8080/"
        },
        "outputId": "ec9f3fb8-1ff8-47e4-f808-26fe723561df"
      },
      "source": [
        "np.arange(5, 101, 5) #100까지 구하고 싶다면 100+1값을 입력해주어야 함 - arrange일때만"
      ],
      "execution_count": null,
      "outputs": [
        {
          "output_type": "execute_result",
          "data": {
            "text/plain": [
              "array([  5,  10,  15,  20,  25,  30,  35,  40,  45,  50,  55,  60,  65,\n",
              "        70,  75,  80,  85,  90,  95, 100])"
            ]
          },
          "metadata": {},
          "execution_count": 15
        }
      ]
    },
    {
      "cell_type": "markdown",
      "metadata": {
        "id": "XeZ0G_R2YayH"
      },
      "source": [
        "### zeros and ones"
      ]
    },
    {
      "cell_type": "code",
      "metadata": {
        "id": "HfQDH4VeYe_h",
        "colab": {
          "base_uri": "https://localhost:8080/"
        },
        "outputId": "106607a8-eb22-4545-8c6f-ee30ec08c5f0"
      },
      "source": [
        "np.zeros(3)"
      ],
      "execution_count": null,
      "outputs": [
        {
          "output_type": "execute_result",
          "data": {
            "text/plain": [
              "array([0., 0., 0.])"
            ]
          },
          "metadata": {},
          "execution_count": 17
        }
      ]
    },
    {
      "cell_type": "code",
      "metadata": {
        "id": "VH0w2mFIYg9T",
        "colab": {
          "base_uri": "https://localhost:8080/"
        },
        "outputId": "a02dba5d-3468-40db-a1ab-4b37a37a0c32"
      },
      "source": [
        "np.zeros(100)"
      ],
      "execution_count": null,
      "outputs": [
        {
          "output_type": "execute_result",
          "data": {
            "text/plain": [
              "array([0., 0., 0., 0., 0., 0., 0., 0., 0., 0., 0., 0., 0., 0., 0., 0., 0.,\n",
              "       0., 0., 0., 0., 0., 0., 0., 0., 0., 0., 0., 0., 0., 0., 0., 0., 0.,\n",
              "       0., 0., 0., 0., 0., 0., 0., 0., 0., 0., 0., 0., 0., 0., 0., 0., 0.,\n",
              "       0., 0., 0., 0., 0., 0., 0., 0., 0., 0., 0., 0., 0., 0., 0., 0., 0.,\n",
              "       0., 0., 0., 0., 0., 0., 0., 0., 0., 0., 0., 0., 0., 0., 0., 0., 0.,\n",
              "       0., 0., 0., 0., 0., 0., 0., 0., 0., 0., 0., 0., 0., 0., 0.])"
            ]
          },
          "metadata": {},
          "execution_count": 18
        }
      ]
    },
    {
      "cell_type": "code",
      "metadata": {
        "id": "Pib6tm3dYj_q",
        "colab": {
          "base_uri": "https://localhost:8080/"
        },
        "outputId": "d6c4b55a-5079-463e-b165-1dd1cb48e097"
      },
      "source": [
        "np.zeros((5,5))"
      ],
      "execution_count": null,
      "outputs": [
        {
          "output_type": "execute_result",
          "data": {
            "text/plain": [
              "array([[0., 0., 0., 0., 0.],\n",
              "       [0., 0., 0., 0., 0.],\n",
              "       [0., 0., 0., 0., 0.],\n",
              "       [0., 0., 0., 0., 0.],\n",
              "       [0., 0., 0., 0., 0.]])"
            ]
          },
          "metadata": {},
          "execution_count": 19
        }
      ]
    },
    {
      "cell_type": "code",
      "metadata": {
        "id": "5CeDBoxGYxnG",
        "colab": {
          "base_uri": "https://localhost:8080/"
        },
        "outputId": "20b149ee-1770-456d-c3a3-6f19d9fb3888"
      },
      "source": [
        "np.zeros((2,5)) #열, 행 순서"
      ],
      "execution_count": null,
      "outputs": [
        {
          "output_type": "execute_result",
          "data": {
            "text/plain": [
              "array([[0., 0., 0., 0., 0.],\n",
              "       [0., 0., 0., 0., 0.]])"
            ]
          },
          "metadata": {},
          "execution_count": 21
        }
      ]
    },
    {
      "cell_type": "code",
      "metadata": {
        "id": "BQcXdIxXY7Eo",
        "colab": {
          "base_uri": "https://localhost:8080/"
        },
        "outputId": "7e44cca2-872d-4baa-d66c-e4381e26a19a"
      },
      "source": [
        "np.ones(3)"
      ],
      "execution_count": null,
      "outputs": [
        {
          "output_type": "execute_result",
          "data": {
            "text/plain": [
              "array([1., 1., 1.])"
            ]
          },
          "metadata": {},
          "execution_count": 23
        }
      ]
    },
    {
      "cell_type": "code",
      "metadata": {
        "id": "He-UYjrsZQLx",
        "colab": {
          "base_uri": "https://localhost:8080/"
        },
        "outputId": "9241fd25-d1b1-4875-84a7-ccbdfbbbf06e"
      },
      "source": [
        "np.ones(100)"
      ],
      "execution_count": null,
      "outputs": [
        {
          "output_type": "execute_result",
          "data": {
            "text/plain": [
              "array([1., 1., 1., 1., 1., 1., 1., 1., 1., 1., 1., 1., 1., 1., 1., 1., 1.,\n",
              "       1., 1., 1., 1., 1., 1., 1., 1., 1., 1., 1., 1., 1., 1., 1., 1., 1.,\n",
              "       1., 1., 1., 1., 1., 1., 1., 1., 1., 1., 1., 1., 1., 1., 1., 1., 1.,\n",
              "       1., 1., 1., 1., 1., 1., 1., 1., 1., 1., 1., 1., 1., 1., 1., 1., 1.,\n",
              "       1., 1., 1., 1., 1., 1., 1., 1., 1., 1., 1., 1., 1., 1., 1., 1., 1.,\n",
              "       1., 1., 1., 1., 1., 1., 1., 1., 1., 1., 1., 1., 1., 1., 1.])"
            ]
          },
          "metadata": {},
          "execution_count": 24
        }
      ]
    },
    {
      "cell_type": "code",
      "metadata": {
        "id": "H6FPah25ZS3S",
        "colab": {
          "base_uri": "https://localhost:8080/"
        },
        "outputId": "465449b5-8a60-468f-f483-cc8deb102db3"
      },
      "source": [
        "np.ones((100,100))"
      ],
      "execution_count": null,
      "outputs": [
        {
          "output_type": "execute_result",
          "data": {
            "text/plain": [
              "array([[1., 1., 1., ..., 1., 1., 1.],\n",
              "       [1., 1., 1., ..., 1., 1., 1.],\n",
              "       [1., 1., 1., ..., 1., 1., 1.],\n",
              "       ...,\n",
              "       [1., 1., 1., ..., 1., 1., 1.],\n",
              "       [1., 1., 1., ..., 1., 1., 1.],\n",
              "       [1., 1., 1., ..., 1., 1., 1.]])"
            ]
          },
          "metadata": {},
          "execution_count": 25
        }
      ]
    },
    {
      "cell_type": "code",
      "metadata": {
        "id": "to7drAlGZbKK",
        "colab": {
          "base_uri": "https://localhost:8080/"
        },
        "outputId": "7eb01948-9c54-4fc9-8277-dc3267eb2ab4"
      },
      "source": [
        "np.ones((4,8))"
      ],
      "execution_count": null,
      "outputs": [
        {
          "output_type": "execute_result",
          "data": {
            "text/plain": [
              "array([[1., 1., 1., 1., 1., 1., 1., 1.],\n",
              "       [1., 1., 1., 1., 1., 1., 1., 1.],\n",
              "       [1., 1., 1., 1., 1., 1., 1., 1.],\n",
              "       [1., 1., 1., 1., 1., 1., 1., 1.]])"
            ]
          },
          "metadata": {},
          "execution_count": 26
        }
      ]
    },
    {
      "cell_type": "code",
      "metadata": {
        "id": "Og4T3oLsZloj"
      },
      "source": [
        "#ex1) import numpy and give a nickname of np\n",
        "#ex1) numpy를 가져오고 닉네임을 np로 붙인다.\n",
        "import numpy as np"
      ],
      "execution_count": null,
      "outputs": []
    },
    {
      "cell_type": "code",
      "metadata": {
        "id": "1TTtX47zZ2x6",
        "colab": {
          "base_uri": "https://localhost:8080/"
        },
        "outputId": "2fe01dbd-2bc7-4b61-ef7c-46f996d1128f"
      },
      "source": [
        "#ex2) create an array of 25 zeros\n",
        "#ex2) 25개의 0 배열 생성\n",
        "np.zeros(25)"
      ],
      "execution_count": null,
      "outputs": [
        {
          "output_type": "execute_result",
          "data": {
            "text/plain": [
              "array([0., 0., 0., 0., 0., 0., 0., 0., 0., 0., 0., 0., 0., 0., 0., 0., 0.,\n",
              "       0., 0., 0., 0., 0., 0., 0., 0.])"
            ]
          },
          "metadata": {},
          "execution_count": 29
        }
      ]
    },
    {
      "cell_type": "code",
      "metadata": {
        "id": "Ap29PGUYZ6dq",
        "colab": {
          "base_uri": "https://localhost:8080/"
        },
        "outputId": "459cc444-0db0-43d3-c7e1-71ec5aee9abf"
      },
      "source": [
        "#ex3) create an array of 25 ones\n",
        "#ex3) 25개의 ones 배열 생성\n",
        "np.ones(25)"
      ],
      "execution_count": null,
      "outputs": [
        {
          "output_type": "execute_result",
          "data": {
            "text/plain": [
              "array([1., 1., 1., 1., 1., 1., 1., 1., 1., 1., 1., 1., 1., 1., 1., 1., 1.,\n",
              "       1., 1., 1., 1., 1., 1., 1., 1.])"
            ]
          },
          "metadata": {},
          "execution_count": 49
        }
      ]
    },
    {
      "cell_type": "code",
      "metadata": {
        "id": "5NKY8I9lZ_Bp",
        "colab": {
          "base_uri": "https://localhost:8080/"
        },
        "outputId": "1587aaa2-4e62-4f33-9481-504dc8631976"
      },
      "source": [
        "#ex4) create an array of 25 fives\n",
        "#ex4) 25개의 파이브 배열 생성\n",
        "np.ones(25)*5\n"
      ],
      "execution_count": null,
      "outputs": [
        {
          "output_type": "execute_result",
          "data": {
            "text/plain": [
              "array([5., 5., 5., 5., 5., 5., 5., 5., 5., 5., 5., 5., 5., 5., 5., 5., 5.,\n",
              "       5., 5., 5., 5., 5., 5., 5., 5.])"
            ]
          },
          "metadata": {},
          "execution_count": 48
        }
      ]
    },
    {
      "cell_type": "code",
      "metadata": {
        "id": "fMpz_vAPaDKb",
        "colab": {
          "base_uri": "https://localhost:8080/"
        },
        "outputId": "374cb138-d5d5-4141-ff67-62cad5b34bba"
      },
      "source": [
        "#ex5) create an array of integers from 25 to 50\n",
        "#ex5) 25에서 50까지의 정수 배열 생성\n",
        "np.arange(25,51)"
      ],
      "execution_count": null,
      "outputs": [
        {
          "output_type": "execute_result",
          "data": {
            "text/plain": [
              "array([25, 26, 27, 28, 29, 30, 31, 32, 33, 34, 35, 36, 37, 38, 39, 40, 41,\n",
              "       42, 43, 44, 45, 46, 47, 48, 49, 50])"
            ]
          },
          "metadata": {},
          "execution_count": 45
        }
      ]
    },
    {
      "cell_type": "code",
      "metadata": {
        "id": "UzboeGobaJt3",
        "colab": {
          "base_uri": "https://localhost:8080/"
        },
        "outputId": "c8ce3399-824f-4010-f1eb-a9bc7c13e69e"
      },
      "source": [
        "#ex5) create an array of even integers from  10 to 50\n",
        "#ex5) 짝수 10에서 50 사이의 정수 배열 생성\n",
        "np.arange(10,51,2)"
      ],
      "execution_count": null,
      "outputs": [
        {
          "output_type": "execute_result",
          "data": {
            "text/plain": [
              "array([10, 12, 14, 16, 18, 20, 22, 24, 26, 28, 30, 32, 34, 36, 38, 40, 42,\n",
              "       44, 46, 48, 50])"
            ]
          },
          "metadata": {},
          "execution_count": 46
        }
      ]
    },
    {
      "cell_type": "markdown",
      "metadata": {
        "id": "oHp8X1kbiTrt"
      },
      "source": [
        "### linspace()"
      ]
    },
    {
      "cell_type": "code",
      "metadata": {
        "id": "WUaxwcMGbtHN",
        "colab": {
          "base_uri": "https://localhost:8080/"
        },
        "outputId": "9507acac-cdf1-48f8-bfa1-8f80e1020ccd"
      },
      "source": [
        "np.linspace(0, 10, 3) #0부터 10까지 3등분"
      ],
      "execution_count": null,
      "outputs": [
        {
          "output_type": "execute_result",
          "data": {
            "text/plain": [
              "array([ 0.,  5., 10.])"
            ]
          },
          "metadata": {},
          "execution_count": 50
        }
      ]
    },
    {
      "cell_type": "code",
      "metadata": {
        "id": "P6we4_smjAhY",
        "colab": {
          "base_uri": "https://localhost:8080/"
        },
        "outputId": "b253eba9-f2cd-4c36-f8ae-d1cc9344a34b"
      },
      "source": [
        "np.linspace(0, 10, 4)  #0부터 10까지 4등분"
      ],
      "execution_count": null,
      "outputs": [
        {
          "output_type": "execute_result",
          "data": {
            "text/plain": [
              "array([ 0.        ,  3.33333333,  6.66666667, 10.        ])"
            ]
          },
          "metadata": {},
          "execution_count": 51
        }
      ]
    },
    {
      "cell_type": "code",
      "metadata": {
        "id": "1kSJdoMzjaj1",
        "colab": {
          "base_uri": "https://localhost:8080/"
        },
        "outputId": "89bff830-e801-467c-fae1-ec0f6b5cb602"
      },
      "source": [
        "np.linspace(0, 10, 5) #0부터 10까지 5등분"
      ],
      "execution_count": null,
      "outputs": [
        {
          "output_type": "execute_result",
          "data": {
            "text/plain": [
              "array([ 0. ,  2.5,  5. ,  7.5, 10. ])"
            ]
          },
          "metadata": {},
          "execution_count": 52
        }
      ]
    },
    {
      "cell_type": "code",
      "metadata": {
        "id": "IC-e3nQOjquE",
        "colab": {
          "base_uri": "https://localhost:8080/"
        },
        "outputId": "3a287fc9-4f28-4674-e8f5-96b82aafcaae"
      },
      "source": [
        "np.linspace(0, 10, 50) #0부터 10까지 50등분"
      ],
      "execution_count": null,
      "outputs": [
        {
          "output_type": "execute_result",
          "data": {
            "text/plain": [
              "array([ 0.        ,  0.20408163,  0.40816327,  0.6122449 ,  0.81632653,\n",
              "        1.02040816,  1.2244898 ,  1.42857143,  1.63265306,  1.83673469,\n",
              "        2.04081633,  2.24489796,  2.44897959,  2.65306122,  2.85714286,\n",
              "        3.06122449,  3.26530612,  3.46938776,  3.67346939,  3.87755102,\n",
              "        4.08163265,  4.28571429,  4.48979592,  4.69387755,  4.89795918,\n",
              "        5.10204082,  5.30612245,  5.51020408,  5.71428571,  5.91836735,\n",
              "        6.12244898,  6.32653061,  6.53061224,  6.73469388,  6.93877551,\n",
              "        7.14285714,  7.34693878,  7.55102041,  7.75510204,  7.95918367,\n",
              "        8.16326531,  8.36734694,  8.57142857,  8.7755102 ,  8.97959184,\n",
              "        9.18367347,  9.3877551 ,  9.59183673,  9.79591837, 10.        ])"
            ]
          },
          "metadata": {},
          "execution_count": 53
        }
      ]
    },
    {
      "cell_type": "code",
      "metadata": {
        "id": "O0RYWaiwjqEB",
        "colab": {
          "base_uri": "https://localhost:8080/"
        },
        "outputId": "aa6fdc85-ce88-4c72-f288-d10d6a8b5417"
      },
      "source": [
        "np.linspace(0, 10, 10) #0부터 10까지 10등분"
      ],
      "execution_count": null,
      "outputs": [
        {
          "output_type": "execute_result",
          "data": {
            "text/plain": [
              "array([ 0.        ,  1.11111111,  2.22222222,  3.33333333,  4.44444444,\n",
              "        5.55555556,  6.66666667,  7.77777778,  8.88888889, 10.        ])"
            ]
          },
          "metadata": {},
          "execution_count": 54
        }
      ]
    },
    {
      "cell_type": "code",
      "metadata": {
        "id": "G26CG2xsjqAx",
        "colab": {
          "base_uri": "https://localhost:8080/"
        },
        "outputId": "61607644-29d4-405b-b40b-69185099807d"
      },
      "source": [
        "np.linspace(0, 10, 11) #0부터 10까지 11등분"
      ],
      "execution_count": null,
      "outputs": [
        {
          "output_type": "execute_result",
          "data": {
            "text/plain": [
              "array([ 0.,  1.,  2.,  3.,  4.,  5.,  6.,  7.,  8.,  9., 10.])"
            ]
          },
          "metadata": {},
          "execution_count": 55
        }
      ]
    },
    {
      "cell_type": "markdown",
      "metadata": {
        "id": "7V4qJG3BkYy6"
      },
      "source": [
        "### eye()"
      ]
    },
    {
      "cell_type": "code",
      "metadata": {
        "id": "eGIswlj5jp9W",
        "colab": {
          "base_uri": "https://localhost:8080/"
        },
        "outputId": "7fc61ba4-e64a-4105-9818-74c46c9924f1"
      },
      "source": [
        "# identity matrix (단위행렬)\n",
        "np.eye(4)"
      ],
      "execution_count": null,
      "outputs": [
        {
          "output_type": "execute_result",
          "data": {
            "text/plain": [
              "array([[1., 0., 0., 0.],\n",
              "       [0., 1., 0., 0.],\n",
              "       [0., 0., 1., 0.],\n",
              "       [0., 0., 0., 1.]])"
            ]
          },
          "metadata": {},
          "execution_count": 57
        }
      ]
    },
    {
      "cell_type": "code",
      "metadata": {
        "id": "X8VAcrUBjp7x",
        "colab": {
          "base_uri": "https://localhost:8080/"
        },
        "outputId": "a50a3d10-ab7d-44df-bed9-e8d77aa522e1"
      },
      "source": [
        "np.eye(10)"
      ],
      "execution_count": null,
      "outputs": [
        {
          "output_type": "execute_result",
          "data": {
            "text/plain": [
              "array([[1., 0., 0., 0., 0., 0., 0., 0., 0., 0.],\n",
              "       [0., 1., 0., 0., 0., 0., 0., 0., 0., 0.],\n",
              "       [0., 0., 1., 0., 0., 0., 0., 0., 0., 0.],\n",
              "       [0., 0., 0., 1., 0., 0., 0., 0., 0., 0.],\n",
              "       [0., 0., 0., 0., 1., 0., 0., 0., 0., 0.],\n",
              "       [0., 0., 0., 0., 0., 1., 0., 0., 0., 0.],\n",
              "       [0., 0., 0., 0., 0., 0., 1., 0., 0., 0.],\n",
              "       [0., 0., 0., 0., 0., 0., 0., 1., 0., 0.],\n",
              "       [0., 0., 0., 0., 0., 0., 0., 0., 1., 0.],\n",
              "       [0., 0., 0., 0., 0., 0., 0., 0., 0., 1.]])"
            ]
          },
          "metadata": {},
          "execution_count": 58
        }
      ]
    },
    {
      "cell_type": "markdown",
      "metadata": {
        "id": "_frn2KdvlBR-"
      },
      "source": [
        "###Random"
      ]
    },
    {
      "cell_type": "markdown",
      "metadata": {
        "id": "9l6H3SAHlGPV"
      },
      "source": [
        "####rand()"
      ]
    },
    {
      "cell_type": "code",
      "metadata": {
        "id": "AezVGsC0lKDY",
        "colab": {
          "base_uri": "https://localhost:8080/",
          "height": 211
        },
        "outputId": "c5002d4f-f2ec-45dd-b1cc-2d3f9c52e33e"
      },
      "source": [
        "#uniform distribution [0,1)\n",
        "\n",
        "np.random.rand(2)"
      ],
      "execution_count": 16,
      "outputs": [
        {
          "output_type": "error",
          "ename": "NameError",
          "evalue": "ignored",
          "traceback": [
            "\u001b[0;31m---------------------------------------------------------------------------\u001b[0m",
            "\u001b[0;31mNameError\u001b[0m                                 Traceback (most recent call last)",
            "\u001b[0;32m<ipython-input-16-daf580e88894>\u001b[0m in \u001b[0;36m<module>\u001b[0;34m()\u001b[0m\n\u001b[1;32m      1\u001b[0m \u001b[0;31m#uniform distribution [0,1)\u001b[0m\u001b[0;34m\u001b[0m\u001b[0;34m\u001b[0m\u001b[0;34m\u001b[0m\u001b[0m\n\u001b[1;32m      2\u001b[0m \u001b[0;34m\u001b[0m\u001b[0m\n\u001b[0;32m----> 3\u001b[0;31m \u001b[0mnp\u001b[0m\u001b[0;34m.\u001b[0m\u001b[0mrandom\u001b[0m\u001b[0;34m.\u001b[0m\u001b[0mrand\u001b[0m\u001b[0;34m(\u001b[0m\u001b[0;36m2\u001b[0m\u001b[0;34m)\u001b[0m\u001b[0;34m\u001b[0m\u001b[0;34m\u001b[0m\u001b[0m\n\u001b[0m",
            "\u001b[0;31mNameError\u001b[0m: name 'np' is not defined"
          ]
        }
      ]
    },
    {
      "cell_type": "code",
      "metadata": {
        "id": "gdQLXJgVlKA5",
        "colab": {
          "base_uri": "https://localhost:8080/"
        },
        "outputId": "43e860c1-75f0-4d88-c215-eb66520e30f8"
      },
      "source": [
        "np.random.rand(5,5)"
      ],
      "execution_count": null,
      "outputs": [
        {
          "output_type": "execute_result",
          "data": {
            "text/plain": [
              "array([[0.70427222, 0.5294113 , 0.11067425, 0.19581234, 0.32988559],\n",
              "       [0.46417753, 0.27879684, 0.14969445, 0.97879484, 0.34491373],\n",
              "       [0.02333259, 0.24614717, 0.65800572, 0.82544587, 0.9844671 ],\n",
              "       [0.74042702, 0.43990927, 0.16560841, 0.30236031, 0.79000606],\n",
              "       [0.41545249, 0.59805367, 0.60639651, 0.00764618, 0.96557489]])"
            ]
          },
          "metadata": {},
          "execution_count": 61
        }
      ]
    },
    {
      "cell_type": "code",
      "metadata": {
        "id": "Cxe4XK7ilJ-g",
        "colab": {
          "base_uri": "https://localhost:8080/"
        },
        "outputId": "dc1d12ac-11b0-4cf6-caa4-0398e9c8cb59"
      },
      "source": [
        "np.random.rand(3,5)"
      ],
      "execution_count": null,
      "outputs": [
        {
          "output_type": "execute_result",
          "data": {
            "text/plain": [
              "array([[0.42287823, 0.96805513, 0.41815378, 0.08518527, 0.83826078],\n",
              "       [0.85024269, 0.12192479, 0.0632438 , 0.23330387, 0.35908584],\n",
              "       [0.08150059, 0.76975532, 0.84496229, 0.74847731, 0.62096832]])"
            ]
          },
          "metadata": {},
          "execution_count": 62
        }
      ]
    },
    {
      "cell_type": "markdown",
      "metadata": {
        "id": "RNs8nrkjmAnf"
      },
      "source": [
        "#### randn() 정규분포"
      ]
    },
    {
      "cell_type": "code",
      "metadata": {
        "id": "EmNgfDhRlBF4",
        "colab": {
          "base_uri": "https://localhost:8080/"
        },
        "outputId": "704de291-e976-4927-eb8a-8bff8c5c1d01"
      },
      "source": [
        "np.random.randn(3)"
      ],
      "execution_count": null,
      "outputs": [
        {
          "output_type": "execute_result",
          "data": {
            "text/plain": [
              "array([ 2.17719205,  0.55334153, -0.39044486])"
            ]
          },
          "metadata": {},
          "execution_count": 65
        }
      ]
    },
    {
      "cell_type": "code",
      "metadata": {
        "id": "pOfQ8J40jp43",
        "colab": {
          "base_uri": "https://localhost:8080/"
        },
        "outputId": "7bb2448c-83c4-495a-bc7c-cf9641718898"
      },
      "source": [
        "#matrix 5,5\n",
        "np.random.randn(5,5)"
      ],
      "execution_count": null,
      "outputs": [
        {
          "output_type": "execute_result",
          "data": {
            "text/plain": [
              "array([[-0.49881626,  0.91409597,  1.49377437,  0.72298481, -1.16275473],\n",
              "       [ 1.10866733,  1.03565442, -0.56743493,  0.38422297, -0.82862319],\n",
              "       [ 0.86489871,  0.15092512, -0.99162396, -0.62905997, -0.95841478],\n",
              "       [ 0.30483198, -0.61863533,  2.32737589,  0.85090328, -1.35088101],\n",
              "       [ 0.75880777, -0.29665133,  0.17400265, -0.8252752 ,  0.85080992]])"
            ]
          },
          "metadata": {},
          "execution_count": 66
        }
      ]
    },
    {
      "cell_type": "code",
      "metadata": {
        "id": "MZ7CVOdqm3xf",
        "colab": {
          "base_uri": "https://localhost:8080/"
        },
        "outputId": "9eb3488c-fe51-4104-d2e1-feeb4b3d9436"
      },
      "source": [
        "np.random.randn(10,5)"
      ],
      "execution_count": null,
      "outputs": [
        {
          "output_type": "execute_result",
          "data": {
            "text/plain": [
              "array([[ 0.01397076, -1.25336079,  0.03782136, -0.91779904,  1.61467564],\n",
              "       [ 0.03408844,  0.27495745, -0.27772898, -1.89699447,  0.1998841 ],\n",
              "       [ 1.64448017,  1.43958461, -1.28068338, -1.25307329, -0.12109722],\n",
              "       [ 0.60919975,  0.64947877, -0.85016011, -1.89926771,  0.44191615],\n",
              "       [ 1.43658501,  0.43095285, -0.23220489, -0.30498369,  0.44602486],\n",
              "       [-1.3220098 , -0.93533102,  0.11612266,  1.06841162,  1.74477093],\n",
              "       [-0.95163346,  1.94443217, -1.33540524,  0.77437219,  1.58977668],\n",
              "       [ 0.65512935,  1.15076878, -0.84420991,  0.24956744, -0.05817177],\n",
              "       [-0.47543525,  1.74482691,  1.44724318,  0.66919781,  0.25026668],\n",
              "       [-0.33056442, -1.555802  ,  0.65428218, -0.32465167, -1.42998257]])"
            ]
          },
          "metadata": {},
          "execution_count": 67
        }
      ]
    },
    {
      "cell_type": "markdown",
      "metadata": {
        "id": "LUjcm3kbnSw_"
      },
      "source": [
        "#### randint()"
      ]
    },
    {
      "cell_type": "code",
      "metadata": {
        "id": "abkQx88Tm3s-",
        "colab": {
          "base_uri": "https://localhost:8080/"
        },
        "outputId": "2a0abf52-7c74-4498-b964-ffaec84231ff"
      },
      "source": [
        "np.random.randint(0,10) #[0,10)중 랜덤으로 뽑음"
      ],
      "execution_count": null,
      "outputs": [
        {
          "output_type": "execute_result",
          "data": {
            "text/plain": [
              "8"
            ]
          },
          "metadata": {},
          "execution_count": 76
        }
      ]
    },
    {
      "cell_type": "code",
      "metadata": {
        "id": "9EYTbOWDm3p_",
        "colab": {
          "base_uri": "https://localhost:8080/"
        },
        "outputId": "da68805c-f9a4-43f0-e5db-abfc69db157d"
      },
      "source": [
        "np.random.randint(1,100, 10)"
      ],
      "execution_count": null,
      "outputs": [
        {
          "output_type": "execute_result",
          "data": {
            "text/plain": [
              "array([96, 69, 50, 19, 79, 33, 83, 80, 93, 79])"
            ]
          },
          "metadata": {},
          "execution_count": 77
        }
      ]
    },
    {
      "cell_type": "markdown",
      "metadata": {
        "id": "mzYIAxINoFCJ"
      },
      "source": [
        "## Array Attributes and Methods"
      ]
    },
    {
      "cell_type": "code",
      "metadata": {
        "id": "o3Wu6GPhoGW-",
        "outputId": "0eab824b-fc07-4664-83bf-0f88089d4323",
        "colab": {
          "base_uri": "https://localhost:8080/",
          "height": 174
        }
      },
      "source": [
        "arr = np.arange(25)"
      ],
      "execution_count": 15,
      "outputs": [
        {
          "output_type": "error",
          "ename": "NameError",
          "evalue": "ignored",
          "traceback": [
            "\u001b[0;31m---------------------------------------------------------------------------\u001b[0m",
            "\u001b[0;31mNameError\u001b[0m                                 Traceback (most recent call last)",
            "\u001b[0;32m<ipython-input-15-c0b1ba72a960>\u001b[0m in \u001b[0;36m<module>\u001b[0;34m()\u001b[0m\n\u001b[0;32m----> 1\u001b[0;31m \u001b[0marr\u001b[0m \u001b[0;34m=\u001b[0m \u001b[0mnp\u001b[0m\u001b[0;34m.\u001b[0m\u001b[0marange\u001b[0m\u001b[0;34m(\u001b[0m\u001b[0;36m25\u001b[0m\u001b[0;34m)\u001b[0m\u001b[0;34m\u001b[0m\u001b[0;34m\u001b[0m\u001b[0m\n\u001b[0m",
            "\u001b[0;31mNameError\u001b[0m: name 'np' is not defined"
          ]
        }
      ]
    },
    {
      "cell_type": "code",
      "metadata": {
        "id": "HrL-8WUKoGUj",
        "colab": {
          "base_uri": "https://localhost:8080/"
        },
        "outputId": "949b4eae-735e-45cf-c5df-8c83c2165b4d"
      },
      "source": [
        "print(arr)"
      ],
      "execution_count": null,
      "outputs": [
        {
          "output_type": "stream",
          "name": "stdout",
          "text": [
            "[ 0  1  2  3  4  5  6  7  8  9 10 11 12 13 14 15 16 17 18 19 20 21 22 23\n",
            " 24]\n"
          ]
        }
      ]
    },
    {
      "cell_type": "code",
      "metadata": {
        "id": "kbd5YFnnoGSN",
        "colab": {
          "base_uri": "https://localhost:8080/"
        },
        "outputId": "e5557a5d-4b37-4d1d-bee2-e75928e5403a"
      },
      "source": [
        "ranarr =np.random.randint(0, 50, 10)\n",
        "print(ranarr)"
      ],
      "execution_count": null,
      "outputs": [
        {
          "output_type": "stream",
          "name": "stdout",
          "text": [
            "[13 32 38 18 19 29 19 16 25 48]\n"
          ]
        }
      ]
    },
    {
      "cell_type": "markdown",
      "metadata": {
        "id": "hJGpKvT_ohaM"
      },
      "source": [
        "### Reshape()"
      ]
    },
    {
      "cell_type": "code",
      "metadata": {
        "id": "q2lgAwG4oGP7",
        "colab": {
          "base_uri": "https://localhost:8080/"
        },
        "outputId": "7da8f772-d79e-4b86-deb5-f3719a2f587a"
      },
      "source": [
        "arr.reshape(5,5)"
      ],
      "execution_count": null,
      "outputs": [
        {
          "output_type": "execute_result",
          "data": {
            "text/plain": [
              "array([[ 0,  1,  2,  3,  4],\n",
              "       [ 5,  6,  7,  8,  9],\n",
              "       [10, 11, 12, 13, 14],\n",
              "       [15, 16, 17, 18, 19],\n",
              "       [20, 21, 22, 23, 24]])"
            ]
          },
          "metadata": {},
          "execution_count": 82
        }
      ]
    },
    {
      "cell_type": "code",
      "metadata": {
        "id": "VcRM331woF9G",
        "colab": {
          "base_uri": "https://localhost:8080/"
        },
        "outputId": "c4010c47-b0b7-4701-c298-7c278c45b30e"
      },
      "source": [
        "grid = np.arange(1,10).reshape((3,3))\n",
        "print(grid)"
      ],
      "execution_count": null,
      "outputs": [
        {
          "output_type": "stream",
          "name": "stdout",
          "text": [
            "[[1 2 3]\n",
            " [4 5 6]\n",
            " [7 8 9]]\n"
          ]
        }
      ]
    },
    {
      "cell_type": "code",
      "metadata": {
        "id": "OIt5j0tvoF6k",
        "colab": {
          "base_uri": "https://localhost:8080/"
        },
        "outputId": "9231da87-8b00-4140-d598-76b14d7ba7a3"
      },
      "source": [
        "#ex7) create a 3x3 matrix with values ranging from 0 to 8\n",
        "#ex7) 0에서 8 사이의 값을 가진 3x3 행렬 생성\n",
        "arr = np.arange(9)\n",
        "arr.reshape(3,3)\n"
      ],
      "execution_count": null,
      "outputs": [
        {
          "output_type": "execute_result",
          "data": {
            "text/plain": [
              "array([[0, 1, 2],\n",
              "       [3, 4, 5],\n",
              "       [6, 7, 8]])"
            ]
          },
          "metadata": {},
          "execution_count": 94
        }
      ]
    },
    {
      "cell_type": "code",
      "metadata": {
        "id": "pZ9JQAoWxUqy",
        "colab": {
          "base_uri": "https://localhost:8080/"
        },
        "outputId": "88b8f65b-e314-4322-9fce-810cf52918b7"
      },
      "source": [
        "#teacher\n",
        "np.arange(9).reshape((3,3))"
      ],
      "execution_count": null,
      "outputs": [
        {
          "output_type": "execute_result",
          "data": {
            "text/plain": [
              "array([[0, 1, 2],\n",
              "       [3, 4, 5],\n",
              "       [6, 7, 8]])"
            ]
          },
          "metadata": {},
          "execution_count": 103
        }
      ]
    },
    {
      "cell_type": "code",
      "metadata": {
        "id": "VtayC64PoF30",
        "colab": {
          "base_uri": "https://localhost:8080/"
        },
        "outputId": "10696f84-16a5-4a3e-d82a-906c5d36acd0"
      },
      "source": [
        "#ex8) create a 5x5 identity matrix \n",
        "#ex8) 5x5 ID 매트릭스 생성\n",
        "np.eye(5)"
      ],
      "execution_count": null,
      "outputs": [
        {
          "output_type": "execute_result",
          "data": {
            "text/plain": [
              "array([[1., 0., 0., 0., 0.],\n",
              "       [0., 1., 0., 0., 0.],\n",
              "       [0., 0., 1., 0., 0.],\n",
              "       [0., 0., 0., 1., 0.],\n",
              "       [0., 0., 0., 0., 1.]])"
            ]
          },
          "metadata": {},
          "execution_count": 102
        }
      ]
    },
    {
      "cell_type": "code",
      "metadata": {
        "id": "b-xJehcNm3m3",
        "colab": {
          "base_uri": "https://localhost:8080/"
        },
        "outputId": "d979694b-0fad-4b4c-c978-ce7ce4fc7ae8"
      },
      "source": [
        "#ex9) use numpy to generate a random number between 0 and 1\n",
        "#ex9) 0에서 1 사이의 난수를 생성하기 위해 numpy를 사용한다.\n",
        "# x!! np.random.randint(0,1)\n",
        "np.random.rand(1)"
      ],
      "execution_count": null,
      "outputs": [
        {
          "output_type": "execute_result",
          "data": {
            "text/plain": [
              "array([0.4900785])"
            ]
          },
          "metadata": {},
          "execution_count": 106
        }
      ]
    },
    {
      "cell_type": "code",
      "metadata": {
        "id": "gVdOBhK8k_7O",
        "colab": {
          "base_uri": "https://localhost:8080/"
        },
        "outputId": "51559fd4-5d31-452c-fc65-fd6c07cb6e15"
      },
      "source": [
        "#ex10)use numpy to generate an array of 100 random numbers, sampled from a standard normal distribution\n",
        "#ex10)numpy를 사용하여 표준 정규 분포에서 추출한 100개의 난수 배열을 생성합니다\n",
        "np.random.randn(100)"
      ],
      "execution_count": null,
      "outputs": [
        {
          "output_type": "execute_result",
          "data": {
            "text/plain": [
              "array([-5.82221678e-01, -1.36855479e+00, -3.00702758e-01,  2.49784031e+00,\n",
              "        1.38744765e+00,  8.97285088e-01,  3.76802760e-01,  1.27378833e-01,\n",
              "       -1.15494398e+00,  4.32828968e-01, -6.68463584e-02, -3.20104423e-01,\n",
              "        1.43345772e+00, -9.67129306e-01, -4.46918937e-01,  3.72995263e-02,\n",
              "        2.51177744e-01,  6.45379782e-01, -1.59053500e-01,  1.29706361e+00,\n",
              "        6.77244901e-01, -3.13983469e-01,  7.16769095e-01, -7.58372319e-02,\n",
              "       -1.80747587e-02, -1.42354306e+00, -6.13919125e-01,  6.15387657e-01,\n",
              "        1.62615533e+00,  1.38884855e+00,  1.43428853e+00, -8.09994870e-01,\n",
              "        3.79104627e-01, -9.13341697e-02,  1.43133757e+00,  8.33102509e-01,\n",
              "        9.06819453e-01,  1.00936435e+00,  4.07665310e-01, -1.68386679e+00,\n",
              "       -1.60282288e-01,  1.27844559e+00, -1.23342111e+00,  1.97565128e+00,\n",
              "       -1.27381917e-03, -1.29946300e+00,  6.92080318e-01,  1.61490808e-01,\n",
              "        5.14158188e-01, -1.34659832e+00,  2.47811447e-01,  3.50660974e-01,\n",
              "        5.30718837e-01, -1.98519401e+00, -5.77577040e-01, -7.71750592e-01,\n",
              "       -1.29165351e+00,  1.29287245e+00,  3.44408637e-01, -1.58512596e+00,\n",
              "        1.21821054e+00, -9.54417723e-02,  1.06886621e-03, -1.08406453e+00,\n",
              "       -1.72747196e+00,  6.03734023e-01, -1.22321168e+00,  3.05855631e-01,\n",
              "        1.52123586e-01, -5.00546393e-01,  1.11188185e+00,  9.45852283e-01,\n",
              "        4.39053084e-01, -6.04011741e-01, -7.60576934e-01, -1.07612383e+00,\n",
              "        5.28018822e-01,  9.93072493e-01,  1.04387652e+00, -9.40432352e-01,\n",
              "        1.37915751e+00,  2.08890935e-01, -7.48604913e-01, -4.92318027e-03,\n",
              "        1.15035388e+00,  6.56606159e-01,  9.96022689e-01,  2.03135720e+00,\n",
              "       -9.74358427e-02, -4.25454218e-01,  1.26653718e-01, -1.98845847e-01,\n",
              "        2.00992187e+00, -9.82702546e-02,  7.96053156e-01,  1.64428899e-01,\n",
              "        8.02356352e-01, -1.43863745e-01, -3.19967375e-01, -4.39264026e-01])"
            ]
          },
          "metadata": {},
          "execution_count": 107
        }
      ]
    },
    {
      "cell_type": "code",
      "metadata": {
        "id": "GRh6PfYhtVDY",
        "colab": {
          "base_uri": "https://localhost:8080/"
        },
        "outputId": "bb67e48e-f4cc-4e55-e265-f19d411af054"
      },
      "source": [
        "#ex11) create an array of 25 linearly spaced numbers between 0 and 1\n",
        "#ex11) 0과 1 사이의 선형 간격 숫자 25개 배열 생성\n",
        "np.linspace(0, 1, 25)"
      ],
      "execution_count": null,
      "outputs": [
        {
          "output_type": "execute_result",
          "data": {
            "text/plain": [
              "array([0.        , 0.04166667, 0.08333333, 0.125     , 0.16666667,\n",
              "       0.20833333, 0.25      , 0.29166667, 0.33333333, 0.375     ,\n",
              "       0.41666667, 0.45833333, 0.5       , 0.54166667, 0.58333333,\n",
              "       0.625     , 0.66666667, 0.70833333, 0.75      , 0.79166667,\n",
              "       0.83333333, 0.875     , 0.91666667, 0.95833333, 1.        ])"
            ]
          },
          "metadata": {},
          "execution_count": 101
        }
      ]
    },
    {
      "cell_type": "markdown",
      "metadata": {
        "id": "F7cwJyQyz2T_"
      },
      "source": [
        "### max and min methods"
      ]
    },
    {
      "cell_type": "code",
      "metadata": {
        "id": "cpKO0H8pz18f",
        "colab": {
          "base_uri": "https://localhost:8080/"
        },
        "outputId": "f412de6a-eae3-45f1-9095-7cf4b105ed7b"
      },
      "source": [
        "ranarr"
      ],
      "execution_count": null,
      "outputs": [
        {
          "output_type": "execute_result",
          "data": {
            "text/plain": [
              "array([13, 32, 38, 18, 19, 29, 19, 16, 25, 48])"
            ]
          },
          "metadata": {},
          "execution_count": 108
        }
      ]
    },
    {
      "cell_type": "code",
      "metadata": {
        "id": "n0IX5PhXz12J",
        "colab": {
          "base_uri": "https://localhost:8080/"
        },
        "outputId": "9ba6df08-0f26-406d-b41e-9940ad8ef31f"
      },
      "source": [
        "ranarr.max()"
      ],
      "execution_count": null,
      "outputs": [
        {
          "output_type": "execute_result",
          "data": {
            "text/plain": [
              "48"
            ]
          },
          "metadata": {},
          "execution_count": 110
        }
      ]
    },
    {
      "cell_type": "code",
      "metadata": {
        "id": "jF_Z62sqz1zg",
        "colab": {
          "base_uri": "https://localhost:8080/"
        },
        "outputId": "d084285e-431f-4abc-93c0-7fe680b2c972"
      },
      "source": [
        "ranarr.argmax()"
      ],
      "execution_count": null,
      "outputs": [
        {
          "output_type": "execute_result",
          "data": {
            "text/plain": [
              "9"
            ]
          },
          "metadata": {},
          "execution_count": 111
        }
      ]
    },
    {
      "cell_type": "code",
      "metadata": {
        "id": "RZFY7QGKtafF",
        "colab": {
          "base_uri": "https://localhost:8080/"
        },
        "outputId": "6980b701-0cdc-41fc-b1f9-27b97791d63d"
      },
      "source": [
        "ranarr.min()"
      ],
      "execution_count": null,
      "outputs": [
        {
          "output_type": "execute_result",
          "data": {
            "text/plain": [
              "13"
            ]
          },
          "metadata": {},
          "execution_count": 112
        }
      ]
    },
    {
      "cell_type": "code",
      "metadata": {
        "id": "-vZACGc40lDE",
        "colab": {
          "base_uri": "https://localhost:8080/"
        },
        "outputId": "51541d54-59a4-43e2-a620-593d5ff1f8a7"
      },
      "source": [
        "ranarr.argmin()"
      ],
      "execution_count": null,
      "outputs": [
        {
          "output_type": "execute_result",
          "data": {
            "text/plain": [
              "0"
            ]
          },
          "metadata": {},
          "execution_count": 113
        }
      ]
    },
    {
      "cell_type": "markdown",
      "metadata": {
        "id": "6K7hPSmLYJQa"
      },
      "source": [
        "### shape"
      ]
    },
    {
      "cell_type": "code",
      "metadata": {
        "id": "M7obVQotYIkH"
      },
      "source": [
        "import numpy as np"
      ],
      "execution_count": 23,
      "outputs": []
    },
    {
      "cell_type": "code",
      "metadata": {
        "id": "Fa6HDo9T0ndS"
      },
      "source": [
        "arr = np.arange(25)"
      ],
      "execution_count": 24,
      "outputs": []
    },
    {
      "cell_type": "code",
      "metadata": {
        "id": "o_F7La3eYO1P",
        "colab": {
          "base_uri": "https://localhost:8080/"
        },
        "outputId": "32404ac0-7411-4d25-fa22-851f28f95972"
      },
      "source": [
        "arr.shape"
      ],
      "execution_count": 25,
      "outputs": [
        {
          "output_type": "execute_result",
          "data": {
            "text/plain": [
              "(25,)"
            ]
          },
          "metadata": {},
          "execution_count": 25
        }
      ]
    },
    {
      "cell_type": "code",
      "metadata": {
        "id": "G_ExhMBsYbQE",
        "colab": {
          "base_uri": "https://localhost:8080/"
        },
        "outputId": "649dec6a-4955-464f-dff8-0c5646a3e769"
      },
      "source": [
        "print(arr)"
      ],
      "execution_count": 26,
      "outputs": [
        {
          "output_type": "stream",
          "name": "stdout",
          "text": [
            "[ 0  1  2  3  4  5  6  7  8  9 10 11 12 13 14 15 16 17 18 19 20 21 22 23\n",
            " 24]\n"
          ]
        }
      ]
    },
    {
      "cell_type": "code",
      "metadata": {
        "id": "WOGxeoIxYtLq",
        "colab": {
          "base_uri": "https://localhost:8080/"
        },
        "outputId": "5c462337-41c1-4406-d17e-5f5bfbc7a0c6"
      },
      "source": [
        "#2d array\n",
        "arr.reshape(1,25)"
      ],
      "execution_count": 27,
      "outputs": [
        {
          "output_type": "execute_result",
          "data": {
            "text/plain": [
              "array([[ 0,  1,  2,  3,  4,  5,  6,  7,  8,  9, 10, 11, 12, 13, 14, 15,\n",
              "        16, 17, 18, 19, 20, 21, 22, 23, 24]])"
            ]
          },
          "metadata": {},
          "execution_count": 27
        }
      ]
    },
    {
      "cell_type": "code",
      "metadata": {
        "id": "sHRdl_mUY-9k",
        "colab": {
          "base_uri": "https://localhost:8080/"
        },
        "outputId": "0dd986f6-8b6e-4d3d-df34-a7598e2ca118"
      },
      "source": [
        "arr.reshape(1,25).shape"
      ],
      "execution_count": 28,
      "outputs": [
        {
          "output_type": "execute_result",
          "data": {
            "text/plain": [
              "(1, 25)"
            ]
          },
          "metadata": {},
          "execution_count": 28
        }
      ]
    },
    {
      "cell_type": "code",
      "metadata": {
        "id": "scakTTO8ZXDc",
        "colab": {
          "base_uri": "https://localhost:8080/"
        },
        "outputId": "7739743b-0f0b-43db-8fc9-b425231f42d0"
      },
      "source": [
        "arr.reshape(25,1)"
      ],
      "execution_count": 29,
      "outputs": [
        {
          "output_type": "execute_result",
          "data": {
            "text/plain": [
              "array([[ 0],\n",
              "       [ 1],\n",
              "       [ 2],\n",
              "       [ 3],\n",
              "       [ 4],\n",
              "       [ 5],\n",
              "       [ 6],\n",
              "       [ 7],\n",
              "       [ 8],\n",
              "       [ 9],\n",
              "       [10],\n",
              "       [11],\n",
              "       [12],\n",
              "       [13],\n",
              "       [14],\n",
              "       [15],\n",
              "       [16],\n",
              "       [17],\n",
              "       [18],\n",
              "       [19],\n",
              "       [20],\n",
              "       [21],\n",
              "       [22],\n",
              "       [23],\n",
              "       [24]])"
            ]
          },
          "metadata": {},
          "execution_count": 29
        }
      ]
    },
    {
      "cell_type": "code",
      "metadata": {
        "id": "axej2GeHZ0t5",
        "colab": {
          "base_uri": "https://localhost:8080/"
        },
        "outputId": "4bf3890c-d87d-4be7-ff63-7004b879253a"
      },
      "source": [
        "arr.reshape(25,1).shape #25행1열"
      ],
      "execution_count": 30,
      "outputs": [
        {
          "output_type": "execute_result",
          "data": {
            "text/plain": [
              "(25, 1)"
            ]
          },
          "metadata": {},
          "execution_count": 30
        }
      ]
    },
    {
      "cell_type": "code",
      "metadata": {
        "id": "SnLGuXM8Z0dQ",
        "colab": {
          "base_uri": "https://localhost:8080/"
        },
        "outputId": "eaf417d0-d4d6-4d6f-c787-72625b83b8a8"
      },
      "source": [
        "arr.reshape(1,25).shape[1]"
      ],
      "execution_count": 31,
      "outputs": [
        {
          "output_type": "execute_result",
          "data": {
            "text/plain": [
              "25"
            ]
          },
          "metadata": {},
          "execution_count": 31
        }
      ]
    },
    {
      "cell_type": "markdown",
      "metadata": {
        "id": "ktYJwGrdaffO"
      },
      "source": [
        "### dtype"
      ]
    },
    {
      "cell_type": "code",
      "metadata": {
        "id": "Or9AGp5fZ0T9",
        "colab": {
          "base_uri": "https://localhost:8080/"
        },
        "outputId": "f6c94e8f-01f0-4f6e-c8e7-8830ea24b089"
      },
      "source": [
        "arr.dtype #데이터타입 알려줌"
      ],
      "execution_count": 32,
      "outputs": [
        {
          "output_type": "execute_result",
          "data": {
            "text/plain": [
              "dtype('int64')"
            ]
          },
          "metadata": {},
          "execution_count": 32
        }
      ]
    },
    {
      "cell_type": "markdown",
      "metadata": {
        "id": "bH14bI_La6Q7"
      },
      "source": [
        "## Numpy Indexing and Selection"
      ]
    },
    {
      "cell_type": "code",
      "metadata": {
        "id": "e_8TeltNaFQ8"
      },
      "source": [
        "arr = np.arange(0,11)"
      ],
      "execution_count": 33,
      "outputs": []
    },
    {
      "cell_type": "code",
      "metadata": {
        "id": "jZtY992raFFq",
        "colab": {
          "base_uri": "https://localhost:8080/"
        },
        "outputId": "76800b11-e692-4ede-c10c-d04c17da688e"
      },
      "source": [
        "print(arr)"
      ],
      "execution_count": 34,
      "outputs": [
        {
          "output_type": "stream",
          "name": "stdout",
          "text": [
            "[ 0  1  2  3  4  5  6  7  8  9 10]\n"
          ]
        }
      ]
    },
    {
      "cell_type": "markdown",
      "metadata": {
        "id": "DWM8ftdZbUsQ"
      },
      "source": [
        "### Bracket indexing and selection"
      ]
    },
    {
      "cell_type": "code",
      "metadata": {
        "id": "YUVdjhhsbUbm",
        "colab": {
          "base_uri": "https://localhost:8080/"
        },
        "outputId": "13f0c9e0-32d1-4253-87a2-3a0d7ffe32c9"
      },
      "source": [
        "arr[8]"
      ],
      "execution_count": 35,
      "outputs": [
        {
          "output_type": "execute_result",
          "data": {
            "text/plain": [
              "8"
            ]
          },
          "metadata": {},
          "execution_count": 35
        }
      ]
    },
    {
      "cell_type": "code",
      "metadata": {
        "id": "REaF9xbHbNZT",
        "colab": {
          "base_uri": "https://localhost:8080/"
        },
        "outputId": "17b59c6a-7adb-48b6-9be8-88ce61f2aef3"
      },
      "source": [
        "#Get values in range [start_index : end_index+1] 값 가져오기\n",
        "arr[1:5]"
      ],
      "execution_count": 36,
      "outputs": [
        {
          "output_type": "execute_result",
          "data": {
            "text/plain": [
              "array([1, 2, 3, 4])"
            ]
          },
          "metadata": {},
          "execution_count": 36
        }
      ]
    },
    {
      "cell_type": "code",
      "metadata": {
        "id": "RtqzY8CcbsJc",
        "colab": {
          "base_uri": "https://localhost:8080/"
        },
        "outputId": "66ea5257-cd1a-4898-fb51-c8cd01c128b0"
      },
      "source": [
        "arr[-1]"
      ],
      "execution_count": null,
      "outputs": [
        {
          "output_type": "execute_result",
          "data": {
            "text/plain": [
              "10"
            ]
          },
          "metadata": {},
          "execution_count": 29
        }
      ]
    },
    {
      "cell_type": "code",
      "metadata": {
        "id": "rHPrkGDlcO1T",
        "colab": {
          "base_uri": "https://localhost:8080/"
        },
        "outputId": "bcb7c2d7-47e2-4e19-ea68-c3f6bf2a0a32"
      },
      "source": [
        "arr[-2]"
      ],
      "execution_count": null,
      "outputs": [
        {
          "output_type": "execute_result",
          "data": {
            "text/plain": [
              "9"
            ]
          },
          "metadata": {},
          "execution_count": 30
        }
      ]
    },
    {
      "cell_type": "markdown",
      "metadata": {
        "id": "H66puIbjccld"
      },
      "source": [
        "### Broadcasting"
      ]
    },
    {
      "cell_type": "code",
      "metadata": {
        "id": "_wPGFrnAciaT",
        "colab": {
          "base_uri": "https://localhost:8080/"
        },
        "outputId": "52b3725a-dda5-4c10-cc73-43dc52ce26f0"
      },
      "source": [
        "arr"
      ],
      "execution_count": 38,
      "outputs": [
        {
          "output_type": "execute_result",
          "data": {
            "text/plain": [
              "array([ 1,  2,  3,  4,  5,  6,  7,  8,  9, 10, 11, 12, 13, 14, 15, 16, 17,\n",
              "       18, 19, 20, 21, 22, 23, 24, 25, 26, 27, 28, 29, 30, 31, 32, 33, 34,\n",
              "       35, 36, 37, 38, 39, 40, 41, 42, 43, 44, 45, 46, 47, 48, 49])"
            ]
          },
          "metadata": {},
          "execution_count": 38
        }
      ]
    },
    {
      "cell_type": "code",
      "metadata": {
        "id": "21XdSXvmciN6",
        "colab": {
          "base_uri": "https://localhost:8080/"
        },
        "outputId": "0c447397-5e04-456e-c327-813a2c5b14c2"
      },
      "source": [
        "arr[0:5] = 100\n",
        "print(arr)"
      ],
      "execution_count": null,
      "outputs": [
        {
          "output_type": "stream",
          "name": "stdout",
          "text": [
            "[100 100 100 100 100   5   6   7   8   9  10]\n"
          ]
        }
      ]
    },
    {
      "cell_type": "code",
      "metadata": {
        "id": "FOK9mKKrciKt"
      },
      "source": [
        "arr = np.arange(0,11)"
      ],
      "execution_count": null,
      "outputs": []
    },
    {
      "cell_type": "code",
      "metadata": {
        "id": "CPAmaZcLcbVZ",
        "colab": {
          "base_uri": "https://localhost:8080/"
        },
        "outputId": "d316e61f-3263-4f41-db2b-ba1001bbcc29"
      },
      "source": [
        "slice_arr = arr[0:6]\n",
        "print(slice_arr)"
      ],
      "execution_count": null,
      "outputs": [
        {
          "output_type": "stream",
          "name": "stdout",
          "text": [
            "[0 1 2 3 4 5]\n"
          ]
        }
      ]
    },
    {
      "cell_type": "code",
      "metadata": {
        "id": "ngEdNxPJdeLm",
        "colab": {
          "base_uri": "https://localhost:8080/"
        },
        "outputId": "439905e9-5fc9-42ee-a722-c50938b507b0"
      },
      "source": [
        "#change values in my slice variable 슬라이싱\n",
        "slice_arr[:] = 99\n",
        "print(slice_arr)"
      ],
      "execution_count": null,
      "outputs": [
        {
          "output_type": "stream",
          "name": "stdout",
          "text": [
            "[99 99 99 99 99 99]\n"
          ]
        }
      ]
    },
    {
      "cell_type": "code",
      "metadata": {
        "id": "n4KL9OiWd54-",
        "colab": {
          "base_uri": "https://localhost:8080/"
        },
        "outputId": "3be8ca60-9972-425b-8688-5398a08b2d7b"
      },
      "source": [
        "arr"
      ],
      "execution_count": null,
      "outputs": [
        {
          "output_type": "execute_result",
          "data": {
            "text/plain": [
              "array([99, 99, 99, 99, 99, 99,  6,  7,  8,  9, 10])"
            ]
          },
          "metadata": {},
          "execution_count": 38
        }
      ]
    },
    {
      "cell_type": "code",
      "metadata": {
        "id": "J_BQV6NYdPBW"
      },
      "source": [
        "# ex1) why do you think it changed arr with slice_arr? 왜 slice_arr로 바뀌었다고 생각하는가?\n",
        "\n",
        "arr_copy = arr.copy()"
      ],
      "execution_count": 42,
      "outputs": []
    },
    {
      "cell_type": "code",
      "metadata": {
        "id": "9jWMRJo8eGvs"
      },
      "source": [
        "# ex2) you have to create the variable 'matrix' will contain the number form 1 to 49 this is a matrix of 7x7\n",
        "# 변수 '매트릭스'는 1부터 49까지의 숫자를 포함하는 변수이다. 이 행렬은 7x7 행렬입니다."
      ],
      "execution_count": null,
      "outputs": []
    },
    {
      "cell_type": "code",
      "metadata": {
        "id": "cPjDB5otfg5T",
        "colab": {
          "base_uri": "https://localhost:8080/"
        },
        "outputId": "b25fd4f8-37f7-4f84-dbb7-f6bd3bb9b8af"
      },
      "source": [
        "arr = np.arange(1,50)\n",
        "print(arr.reshape(7,7))"
      ],
      "execution_count": 41,
      "outputs": [
        {
          "output_type": "stream",
          "name": "stdout",
          "text": [
            "[[ 1  2  3  4  5  6  7]\n",
            " [ 8  9 10 11 12 13 14]\n",
            " [15 16 17 18 19 20 21]\n",
            " [22 23 24 25 26 27 28]\n",
            " [29 30 31 32 33 34 35]\n",
            " [36 37 38 39 40 41 42]\n",
            " [43 44 45 46 47 48 49]]\n"
          ]
        }
      ]
    },
    {
      "cell_type": "code",
      "metadata": {
        "id": "PQrUgs8juVj7",
        "colab": {
          "base_uri": "https://localhost:8080/",
          "height": 193
        },
        "outputId": "b88bdf48-21bb-43f5-c961-9ac64be2d88f"
      },
      "source": [
        "arr = np.arange(16,50)\n",
        "print(arr.reshape(6,5))"
      ],
      "execution_count": 43,
      "outputs": [
        {
          "output_type": "error",
          "ename": "ValueError",
          "evalue": "ignored",
          "traceback": [
            "\u001b[0;31m---------------------------------------------------------------------------\u001b[0m",
            "\u001b[0;31mValueError\u001b[0m                                Traceback (most recent call last)",
            "\u001b[0;32m<ipython-input-43-a9ed306d6a1a>\u001b[0m in \u001b[0;36m<module>\u001b[0;34m()\u001b[0m\n\u001b[1;32m      1\u001b[0m \u001b[0marr\u001b[0m \u001b[0;34m=\u001b[0m \u001b[0mnp\u001b[0m\u001b[0;34m.\u001b[0m\u001b[0marange\u001b[0m\u001b[0;34m(\u001b[0m\u001b[0;36m16\u001b[0m\u001b[0;34m,\u001b[0m\u001b[0;36m50\u001b[0m\u001b[0;34m)\u001b[0m\u001b[0;34m\u001b[0m\u001b[0;34m\u001b[0m\u001b[0m\n\u001b[0;32m----> 2\u001b[0;31m \u001b[0mprint\u001b[0m\u001b[0;34m(\u001b[0m\u001b[0marr\u001b[0m\u001b[0;34m.\u001b[0m\u001b[0mreshape\u001b[0m\u001b[0;34m(\u001b[0m\u001b[0;36m6\u001b[0m\u001b[0;34m,\u001b[0m\u001b[0;36m5\u001b[0m\u001b[0;34m)\u001b[0m\u001b[0;34m)\u001b[0m\u001b[0;34m\u001b[0m\u001b[0;34m\u001b[0m\u001b[0m\n\u001b[0m",
            "\u001b[0;31mValueError\u001b[0m: cannot reshape array of size 34 into shape (6,5)"
          ]
        }
      ]
    },
    {
      "cell_type": "code",
      "metadata": {
        "id": "lHLUbdn0kufK",
        "colab": {
          "base_uri": "https://localhost:8080/"
        },
        "outputId": "5b0bc536-2143-440f-ecb9-417631f31dba"
      },
      "source": [
        "#교수님\n",
        "matrix =np.arange(1,50).reshape(7,7)\n",
        "print(matrix)"
      ],
      "execution_count": 44,
      "outputs": [
        {
          "output_type": "stream",
          "name": "stdout",
          "text": [
            "[[ 1  2  3  4  5  6  7]\n",
            " [ 8  9 10 11 12 13 14]\n",
            " [15 16 17 18 19 20 21]\n",
            " [22 23 24 25 26 27 28]\n",
            " [29 30 31 32 33 34 35]\n",
            " [36 37 38 39 40 41 42]\n",
            " [43 44 45 46 47 48 49]]\n"
          ]
        }
      ]
    },
    {
      "cell_type": "markdown",
      "metadata": {
        "id": "PUjdcXtCl2TK"
      },
      "source": [
        "### Indexing in 2D arrays"
      ]
    },
    {
      "cell_type": "code",
      "metadata": {
        "id": "PpHaTwj3kucF"
      },
      "source": [
        "# arr_2d[row][col] = arr_2d[row,col] 행,열"
      ],
      "execution_count": 45,
      "outputs": []
    },
    {
      "cell_type": "code",
      "metadata": {
        "id": "juMgrdlakuY5",
        "colab": {
          "base_uri": "https://localhost:8080/"
        },
        "outputId": "c547787a-5ab5-4ac9-d92d-01325df205a7"
      },
      "source": [
        "arr_2d = np.array(([5,10,15],[20,25,30],[35,40,45]))\n",
        "print(arr_2d)"
      ],
      "execution_count": 46,
      "outputs": [
        {
          "output_type": "stream",
          "name": "stdout",
          "text": [
            "[[ 5 10 15]\n",
            " [20 25 30]\n",
            " [35 40 45]]\n"
          ]
        }
      ]
    },
    {
      "cell_type": "code",
      "metadata": {
        "id": "5Q54RI3gkuWE",
        "colab": {
          "base_uri": "https://localhost:8080/"
        },
        "outputId": "48d474e7-31df-4381-9fc3-6dede2f31668"
      },
      "source": [
        "arr_2d.shape"
      ],
      "execution_count": null,
      "outputs": [
        {
          "output_type": "execute_result",
          "data": {
            "text/plain": [
              "(3, 3)"
            ]
          },
          "metadata": {},
          "execution_count": 51
        }
      ]
    },
    {
      "cell_type": "code",
      "metadata": {
        "id": "RxTh5anonepl",
        "colab": {
          "base_uri": "https://localhost:8080/"
        },
        "outputId": "6a155994-6847-419b-ebfd-99649893cdc2"
      },
      "source": [
        "#indexing a row\n",
        "arr_2d[0]"
      ],
      "execution_count": null,
      "outputs": [
        {
          "output_type": "execute_result",
          "data": {
            "text/plain": [
              "array([ 5, 10, 15])"
            ]
          },
          "metadata": {},
          "execution_count": 54
        }
      ]
    },
    {
      "cell_type": "code",
      "metadata": {
        "id": "uXidixX0kuSz",
        "colab": {
          "base_uri": "https://localhost:8080/"
        },
        "outputId": "0acc163b-106d-44d8-b6d1-65e17467f939"
      },
      "source": [
        "arr_2d[1]"
      ],
      "execution_count": null,
      "outputs": [
        {
          "output_type": "execute_result",
          "data": {
            "text/plain": [
              "array([20, 25, 30])"
            ]
          },
          "metadata": {},
          "execution_count": 57
        }
      ]
    },
    {
      "cell_type": "code",
      "metadata": {
        "id": "Md3bbeCsnj45",
        "colab": {
          "base_uri": "https://localhost:8080/"
        },
        "outputId": "cb24cd10-6ed0-461a-ce7f-f7d7a1f28e80"
      },
      "source": [
        "#Get an individual element\n",
        "#arr_2d[row][col]\n",
        "arr_2d[1][0]"
      ],
      "execution_count": null,
      "outputs": [
        {
          "output_type": "execute_result",
          "data": {
            "text/plain": [
              "20"
            ]
          },
          "metadata": {},
          "execution_count": 58
        }
      ]
    },
    {
      "cell_type": "code",
      "metadata": {
        "id": "xMgxyFUqn0Ok",
        "colab": {
          "base_uri": "https://localhost:8080/"
        },
        "outputId": "3950c9c2-0f9f-4a0a-b8be-8bdd55c3f9ec"
      },
      "source": [
        "#arr_2d[row, col]\n",
        "arr_2d[1,0]"
      ],
      "execution_count": null,
      "outputs": [
        {
          "output_type": "execute_result",
          "data": {
            "text/plain": [
              "20"
            ]
          },
          "metadata": {},
          "execution_count": 61
        }
      ]
    },
    {
      "cell_type": "code",
      "metadata": {
        "id": "vCXSnav8n0LE",
        "colab": {
          "base_uri": "https://localhost:8080/"
        },
        "outputId": "3b109815-b9ef-47fd-b535-762f126ae804"
      },
      "source": [
        "print(arr_2d)"
      ],
      "execution_count": null,
      "outputs": [
        {
          "output_type": "stream",
          "name": "stdout",
          "text": [
            "[[ 5 10 15]\n",
            " [20 25 30]\n",
            " [35 40 45]]\n"
          ]
        }
      ]
    },
    {
      "cell_type": "code",
      "metadata": {
        "id": "43WSV_iQn0IZ",
        "colab": {
          "base_uri": "https://localhost:8080/"
        },
        "outputId": "79b5784f-b4e4-4577-9919-6aa885a3b606"
      },
      "source": [
        "# 2-d array slicing\n",
        "# get a (2,2) matrix from the top right corner of arr_2d (ar_2d의 오른쪽 상단 모서리에서 (2,2) 행렬을 가져옵니다)\n",
        "arr_2d[:2]"
      ],
      "execution_count": null,
      "outputs": [
        {
          "output_type": "execute_result",
          "data": {
            "text/plain": [
              "array([[ 5, 10, 15],\n",
              "       [20, 25, 30]])"
            ]
          },
          "metadata": {},
          "execution_count": 64
        }
      ]
    },
    {
      "cell_type": "code",
      "metadata": {
        "id": "w7Ji2I8Kn0Fb",
        "colab": {
          "base_uri": "https://localhost:8080/"
        },
        "outputId": "38545ac0-4c5e-4a31-bbdc-302a54a97913"
      },
      "source": [
        "arr_2d[:2,1]"
      ],
      "execution_count": null,
      "outputs": [
        {
          "output_type": "execute_result",
          "data": {
            "text/plain": [
              "array([10, 25])"
            ]
          },
          "metadata": {},
          "execution_count": 66
        }
      ]
    },
    {
      "cell_type": "code",
      "metadata": {
        "id": "IADMVPmEn0AT",
        "colab": {
          "base_uri": "https://localhost:8080/"
        },
        "outputId": "de3b70ba-3341-491d-87bf-2d6750b7596f"
      },
      "source": [
        "arr_2d[:2,1:]"
      ],
      "execution_count": null,
      "outputs": [
        {
          "output_type": "execute_result",
          "data": {
            "text/plain": [
              "array([[10, 15],\n",
              "       [25, 30]])"
            ]
          },
          "metadata": {},
          "execution_count": 67
        }
      ]
    },
    {
      "cell_type": "code",
      "metadata": {
        "id": "hcSElfTjpS26",
        "colab": {
          "base_uri": "https://localhost:8080/"
        },
        "outputId": "9ecac6b2-7963-47e7-f22d-f4ab1e69202c"
      },
      "source": [
        "#bottom row\n",
        "arr_2d[2]"
      ],
      "execution_count": null,
      "outputs": [
        {
          "output_type": "execute_result",
          "data": {
            "text/plain": [
              "array([35, 40, 45])"
            ]
          },
          "metadata": {},
          "execution_count": 69
        }
      ]
    },
    {
      "cell_type": "code",
      "metadata": {
        "id": "CVJaFPWLpiKW",
        "colab": {
          "base_uri": "https://localhost:8080/"
        },
        "outputId": "bbd0c1cd-a2ac-49a3-9ad0-91e35a5d6792"
      },
      "source": [
        "arr_2d[2,:]"
      ],
      "execution_count": null,
      "outputs": [
        {
          "output_type": "execute_result",
          "data": {
            "text/plain": [
              "array([35, 40, 45])"
            ]
          },
          "metadata": {},
          "execution_count": 70
        }
      ]
    },
    {
      "cell_type": "code",
      "metadata": {
        "id": "txL2P_JjppQ1",
        "colab": {
          "base_uri": "https://localhost:8080/"
        },
        "outputId": "cc8d6641-db4c-45b9-f0a8-c516fd6cc3e1"
      },
      "source": [
        "#bottom left corner (2,2)\n",
        "\n",
        "arr_2d[1:,:2]"
      ],
      "execution_count": null,
      "outputs": [
        {
          "output_type": "execute_result",
          "data": {
            "text/plain": [
              "array([[20, 25],\n",
              "       [35, 40]])"
            ]
          },
          "metadata": {},
          "execution_count": 74
        }
      ]
    },
    {
      "cell_type": "code",
      "metadata": {
        "id": "Wqu4xLa-vFEM"
      },
      "source": [
        ""
      ],
      "execution_count": null,
      "outputs": []
    },
    {
      "cell_type": "code",
      "metadata": {
        "id": "7tYqc4szppEF"
      },
      "source": [
        "#top row"
      ],
      "execution_count": null,
      "outputs": []
    },
    {
      "cell_type": "code",
      "metadata": {
        "id": "_pBs7SlIpo4g",
        "colab": {
          "base_uri": "https://localhost:8080/"
        },
        "outputId": "17e4854d-ade1-4b2d-8033-0d299577891e"
      },
      "source": [
        "arr_2d[0]"
      ],
      "execution_count": null,
      "outputs": [
        {
          "output_type": "execute_result",
          "data": {
            "text/plain": [
              "array([ 5, 10, 15])"
            ]
          },
          "metadata": {},
          "execution_count": 76
        }
      ]
    },
    {
      "cell_type": "code",
      "metadata": {
        "id": "C65nfARzqtdr",
        "colab": {
          "base_uri": "https://localhost:8080/"
        },
        "outputId": "62377fba-8815-408d-fc9a-6290d13644ee"
      },
      "source": [
        "print(matrix)"
      ],
      "execution_count": 47,
      "outputs": [
        {
          "output_type": "stream",
          "name": "stdout",
          "text": [
            "[[ 1  2  3  4  5  6  7]\n",
            " [ 8  9 10 11 12 13 14]\n",
            " [15 16 17 18 19 20 21]\n",
            " [22 23 24 25 26 27 28]\n",
            " [29 30 31 32 33 34 35]\n",
            " [36 37 38 39 40 41 42]\n",
            " [43 44 45 46 47 48 49]]\n"
          ]
        }
      ]
    },
    {
      "cell_type": "code",
      "metadata": {
        "id": "Z1Bn4LageAPh"
      },
      "source": [
        ""
      ],
      "execution_count": null,
      "outputs": []
    },
    {
      "cell_type": "code",
      "metadata": {
        "id": "bxafAVaPsuIK",
        "colab": {
          "base_uri": "https://localhost:8080/"
        },
        "outputId": "4746a8a5-562b-4afa-addf-64b9458adf4f"
      },
      "source": [
        "matrix =np.arange(1,50).reshape(7,7)\n",
        "print(matrix[2:,1:])"
      ],
      "execution_count": null,
      "outputs": [
        {
          "output_type": "stream",
          "name": "stdout",
          "text": [
            "[[16 17 18 19 20 21]\n",
            " [23 24 25 26 27 28]\n",
            " [30 31 32 33 34 35]\n",
            " [37 38 39 40 41 42]\n",
            " [44 45 46 47 48 49]]\n"
          ]
        }
      ]
    },
    {
      "cell_type": "code",
      "metadata": {
        "id": "fRh5iZ3nqaeh",
        "colab": {
          "base_uri": "https://localhost:8080/"
        },
        "outputId": "6e9ae8da-84b4-4bfa-8e55-62ad223c4110"
      },
      "source": [
        "#ex3) from variable 'matrix' get bottom right corner (5,6) use index slicing 가변 '매트릭스'에서 오른쪽 하단 모서리(5,6)를 구한다. \n",
        "matrix =np.arange(1,50).reshape(7,7)\n",
        "print(matrix[6,6])"
      ],
      "execution_count": null,
      "outputs": [
        {
          "output_type": "stream",
          "name": "stdout",
          "text": [
            "49\n"
          ]
        }
      ]
    },
    {
      "cell_type": "code",
      "metadata": {
        "id": "0WzG7O72xvVg",
        "colab": {
          "base_uri": "https://localhost:8080/"
        },
        "outputId": "da8aed2c-6149-48fa-c2dd-4f609f147393"
      },
      "source": [
        "#4교수님\n",
        "matrix[3,4]"
      ],
      "execution_count": null,
      "outputs": [
        {
          "output_type": "execute_result",
          "data": {
            "text/plain": [
              "26"
            ]
          },
          "metadata": {},
          "execution_count": 125
        }
      ]
    },
    {
      "cell_type": "code",
      "metadata": {
        "id": "ndiLPOm9qyep",
        "colab": {
          "base_uri": "https://localhost:8080/"
        },
        "outputId": "5cb78e33-e053-4ac6-b27a-6e72803f0531"
      },
      "source": [
        "#ex4) get value 26 from variable 'matrix' 변수 '매트릭스'에서 값 26을 얻는다.\n",
        "print(matrix[3,4])"
      ],
      "execution_count": null,
      "outputs": [
        {
          "output_type": "stream",
          "name": "stdout",
          "text": [
            "26\n"
          ]
        }
      ]
    },
    {
      "cell_type": "code",
      "metadata": {
        "id": "xLZrF2TkyohT",
        "colab": {
          "base_uri": "https://localhost:8080/"
        },
        "outputId": "1c997fd3-a5af-4edd-ba3f-c975ad6202db"
      },
      "source": [
        "#교수님\n",
        "print(matrix[:3,1])"
      ],
      "execution_count": null,
      "outputs": [
        {
          "output_type": "stream",
          "name": "stdout",
          "text": [
            "[ 2  9 16]\n"
          ]
        }
      ]
    },
    {
      "cell_type": "code",
      "metadata": {
        "id": "rCtDYpe1rPjT",
        "colab": {
          "base_uri": "https://localhost:8080/"
        },
        "outputId": "439ea923-ab76-4d0c-96be-35299c5ea2a8"
      },
      "source": [
        "#ex5) get the following array from the variable matrix 변수 행렬에서 다음 배열을 가져옵니다 2,9,16\n",
        "print(matrix[:3,1].reshape(3,1)) #reshape은 열을 나눠준다"
      ],
      "execution_count": null,
      "outputs": [
        {
          "output_type": "stream",
          "name": "stdout",
          "text": [
            "[[ 2]\n",
            " [ 9]\n",
            " [16]]\n"
          ]
        }
      ]
    },
    {
      "cell_type": "code",
      "metadata": {
        "id": "9yZae3UxyS34"
      },
      "source": [
        "matrix[:3]"
      ],
      "execution_count": null,
      "outputs": []
    },
    {
      "cell_type": "code",
      "metadata": {
        "id": "8CB1AwjorPRw",
        "colab": {
          "base_uri": "https://localhost:8080/"
        },
        "outputId": "4765dfcf-8145-47d6-f7fb-36b4725e0b1c"
      },
      "source": [
        "#ex6) get the following 2-d array from matrix 행렬에서 다음의 2-d 배열을 구하다\n",
        "print(matrix[3:5])"
      ],
      "execution_count": null,
      "outputs": [
        {
          "output_type": "stream",
          "name": "stdout",
          "text": [
            "[[22 23 24 25 26 27 28]\n",
            " [29 30 31 32 33 34 35]]\n"
          ]
        }
      ]
    },
    {
      "cell_type": "markdown",
      "metadata": {
        "id": "1nX-r1o4zMWI"
      },
      "source": [
        "### Fancy indexing"
      ]
    },
    {
      "cell_type": "code",
      "metadata": {
        "id": "9Pxq4l5hzILw",
        "colab": {
          "base_uri": "https://localhost:8080/"
        },
        "outputId": "38fd9549-73de-4516-bb3b-530016a6f181"
      },
      "source": [
        "arr2d = np.zeros((10,10))\n",
        "print(arr2d)"
      ],
      "execution_count": null,
      "outputs": [
        {
          "output_type": "stream",
          "name": "stdout",
          "text": [
            "[[0. 0. 0. 0. 0. 0. 0. 0. 0. 0.]\n",
            " [0. 0. 0. 0. 0. 0. 0. 0. 0. 0.]\n",
            " [0. 0. 0. 0. 0. 0. 0. 0. 0. 0.]\n",
            " [0. 0. 0. 0. 0. 0. 0. 0. 0. 0.]\n",
            " [0. 0. 0. 0. 0. 0. 0. 0. 0. 0.]\n",
            " [0. 0. 0. 0. 0. 0. 0. 0. 0. 0.]\n",
            " [0. 0. 0. 0. 0. 0. 0. 0. 0. 0.]\n",
            " [0. 0. 0. 0. 0. 0. 0. 0. 0. 0.]\n",
            " [0. 0. 0. 0. 0. 0. 0. 0. 0. 0.]\n",
            " [0. 0. 0. 0. 0. 0. 0. 0. 0. 0.]]\n"
          ]
        }
      ]
    },
    {
      "cell_type": "code",
      "metadata": {
        "id": "MzlPDcsizIJD",
        "colab": {
          "base_uri": "https://localhost:8080/"
        },
        "outputId": "c173791c-27f5-4065-ddc5-52a9dccfbd92"
      },
      "source": [
        "arr2d.shape[1]"
      ],
      "execution_count": null,
      "outputs": [
        {
          "output_type": "execute_result",
          "data": {
            "text/plain": [
              "10"
            ]
          },
          "metadata": {},
          "execution_count": 130
        }
      ]
    },
    {
      "cell_type": "code",
      "metadata": {
        "id": "fhcrkPsKztaT",
        "colab": {
          "base_uri": "https://localhost:8080/"
        },
        "outputId": "221963f4-a68b-45a5-e931-51c3b6940b45"
      },
      "source": [
        "for i in range(arr2d.shape[0]):\n",
        "  arr2d[i] = i\n",
        "\n",
        "print(arr2d)"
      ],
      "execution_count": null,
      "outputs": [
        {
          "output_type": "stream",
          "name": "stdout",
          "text": [
            "[[0. 0. 0. 0. 0. 0. 0. 0. 0. 0.]\n",
            " [1. 1. 1. 1. 1. 1. 1. 1. 1. 1.]\n",
            " [2. 2. 2. 2. 2. 2. 2. 2. 2. 2.]\n",
            " [3. 3. 3. 3. 3. 3. 3. 3. 3. 3.]\n",
            " [4. 4. 4. 4. 4. 4. 4. 4. 4. 4.]\n",
            " [5. 5. 5. 5. 5. 5. 5. 5. 5. 5.]\n",
            " [6. 6. 6. 6. 6. 6. 6. 6. 6. 6.]\n",
            " [7. 7. 7. 7. 7. 7. 7. 7. 7. 7.]\n",
            " [8. 8. 8. 8. 8. 8. 8. 8. 8. 8.]\n",
            " [9. 9. 9. 9. 9. 9. 9. 9. 9. 9.]]\n"
          ]
        }
      ]
    },
    {
      "cell_type": "code",
      "metadata": {
        "id": "pankkVlrzIGw",
        "colab": {
          "base_uri": "https://localhost:8080/"
        },
        "outputId": "86b7a2fd-3052-4f63-dd2d-7096e440fd1d"
      },
      "source": [
        "arr2d[[2,4,6,8]]"
      ],
      "execution_count": null,
      "outputs": [
        {
          "output_type": "execute_result",
          "data": {
            "text/plain": [
              "array([[2., 2., 2., 2., 2., 2., 2., 2., 2., 2.],\n",
              "       [4., 4., 4., 4., 4., 4., 4., 4., 4., 4.],\n",
              "       [6., 6., 6., 6., 6., 6., 6., 6., 6., 6.],\n",
              "       [8., 8., 8., 8., 8., 8., 8., 8., 8., 8.]])"
            ]
          },
          "metadata": {},
          "execution_count": 133
        }
      ]
    },
    {
      "cell_type": "code",
      "metadata": {
        "id": "08Y4IIkXzIDn",
        "colab": {
          "base_uri": "https://localhost:8080/"
        },
        "outputId": "5112fdf5-7b4b-4488-f9c9-4d18e2f3e0c7"
      },
      "source": [
        "#any order\n",
        "arr2d[[6,4,2,7,]]"
      ],
      "execution_count": null,
      "outputs": [
        {
          "output_type": "execute_result",
          "data": {
            "text/plain": [
              "array([[6., 6., 6., 6., 6., 6., 6., 6., 6., 6.],\n",
              "       [4., 4., 4., 4., 4., 4., 4., 4., 4., 4.],\n",
              "       [2., 2., 2., 2., 2., 2., 2., 2., 2., 2.],\n",
              "       [7., 7., 7., 7., 7., 7., 7., 7., 7., 7.]])"
            ]
          },
          "metadata": {},
          "execution_count": 134
        }
      ]
    },
    {
      "cell_type": "markdown",
      "metadata": {
        "id": "EIfvZArR1EuX"
      },
      "source": [
        "### Selection"
      ]
    },
    {
      "cell_type": "code",
      "metadata": {
        "id": "JlJnwA7SzIBG",
        "colab": {
          "base_uri": "https://localhost:8080/"
        },
        "outputId": "ed102eb1-7080-4a7c-a13c-1ccea6b653cf"
      },
      "source": [
        "arr = np.arange(1,11)\n",
        "print(arr)"
      ],
      "execution_count": null,
      "outputs": [
        {
          "output_type": "stream",
          "name": "stdout",
          "text": [
            "[ 1  2  3  4  5  6  7  8  9 10]\n"
          ]
        }
      ]
    },
    {
      "cell_type": "code",
      "metadata": {
        "id": "nPeZxjr21aoE",
        "colab": {
          "base_uri": "https://localhost:8080/"
        },
        "outputId": "6fcb196e-ab0e-40b9-b520-8076d4bf9c38"
      },
      "source": [
        "arr > 4 "
      ],
      "execution_count": null,
      "outputs": [
        {
          "output_type": "execute_result",
          "data": {
            "text/plain": [
              "array([False, False, False, False,  True,  True,  True,  True,  True,\n",
              "        True])"
            ]
          },
          "metadata": {},
          "execution_count": 137
        }
      ]
    },
    {
      "cell_type": "code",
      "metadata": {
        "id": "QR6V0rNQ1akD"
      },
      "source": [
        "bool_arr = arr > 4"
      ],
      "execution_count": null,
      "outputs": []
    },
    {
      "cell_type": "code",
      "metadata": {
        "id": "m6CymJsW1ahM",
        "colab": {
          "base_uri": "https://localhost:8080/"
        },
        "outputId": "2231c572-a0a4-44b6-a48e-3311704f9f1f"
      },
      "source": [
        "arr[bool_arr]"
      ],
      "execution_count": null,
      "outputs": [
        {
          "output_type": "execute_result",
          "data": {
            "text/plain": [
              "array([ 5,  6,  7,  8,  9, 10])"
            ]
          },
          "metadata": {},
          "execution_count": 139
        }
      ]
    },
    {
      "cell_type": "code",
      "metadata": {
        "id": "2vGJYXIq14Eb",
        "colab": {
          "base_uri": "https://localhost:8080/"
        },
        "outputId": "6d1df95f-2a30-4f81-d4f0-5071475ea831"
      },
      "source": [
        "arr[arr>2]"
      ],
      "execution_count": null,
      "outputs": [
        {
          "output_type": "execute_result",
          "data": {
            "text/plain": [
              "array([ 3,  4,  5,  6,  7,  8,  9, 10])"
            ]
          },
          "metadata": {},
          "execution_count": 140
        }
      ]
    },
    {
      "cell_type": "code",
      "metadata": {
        "id": "zrV8abUM136z",
        "colab": {
          "base_uri": "https://localhost:8080/"
        },
        "outputId": "b7111677-97b5-4f2c-fa40-21135ad49335"
      },
      "source": [
        "x = 5\n",
        "arr[arr>x]"
      ],
      "execution_count": null,
      "outputs": [
        {
          "output_type": "execute_result",
          "data": {
            "text/plain": [
              "array([ 6,  7,  8,  9, 10])"
            ]
          },
          "metadata": {},
          "execution_count": 141
        }
      ]
    },
    {
      "cell_type": "markdown",
      "metadata": {
        "id": "eoZOu4DM2iVD"
      },
      "source": [
        "## Arithmetic 연산"
      ]
    },
    {
      "cell_type": "code",
      "metadata": {
        "id": "clP473vD2otk",
        "colab": {
          "base_uri": "https://localhost:8080/"
        },
        "outputId": "44c0f8db-665d-468d-98f5-663c9390039c"
      },
      "source": [
        "arr = np.arange(0,10)\n",
        "arr"
      ],
      "execution_count": null,
      "outputs": [
        {
          "output_type": "execute_result",
          "data": {
            "text/plain": [
              "array([0, 1, 2, 3, 4, 5, 6, 7, 8, 9])"
            ]
          },
          "metadata": {},
          "execution_count": 142
        }
      ]
    },
    {
      "cell_type": "code",
      "metadata": {
        "id": "HoiFgQIj2FMJ",
        "colab": {
          "base_uri": "https://localhost:8080/"
        },
        "outputId": "f3959ccc-fc10-4456-f4ae-d87a83a9da48"
      },
      "source": [
        "arr * arr"
      ],
      "execution_count": null,
      "outputs": [
        {
          "output_type": "execute_result",
          "data": {
            "text/plain": [
              "array([ 0,  1,  4,  9, 16, 25, 36, 49, 64, 81])"
            ]
          },
          "metadata": {},
          "execution_count": 144
        }
      ]
    },
    {
      "cell_type": "code",
      "metadata": {
        "id": "kWHqkgX72FIf",
        "colab": {
          "base_uri": "https://localhost:8080/"
        },
        "outputId": "73a44793-a546-4fd2-88e7-211fac230795"
      },
      "source": [
        "arr - arr"
      ],
      "execution_count": null,
      "outputs": [
        {
          "output_type": "execute_result",
          "data": {
            "text/plain": [
              "array([0, 0, 0, 0, 0, 0, 0, 0, 0, 0])"
            ]
          },
          "metadata": {},
          "execution_count": 145
        }
      ]
    },
    {
      "cell_type": "code",
      "metadata": {
        "id": "rIdUHPjT3G9K",
        "colab": {
          "base_uri": "https://localhost:8080/"
        },
        "outputId": "81b90946-64f8-4580-fe6a-3baae60ffc92"
      },
      "source": [
        "arr / arr"
      ],
      "execution_count": null,
      "outputs": [
        {
          "output_type": "stream",
          "name": "stderr",
          "text": [
            "/usr/local/lib/python3.7/dist-packages/ipykernel_launcher.py:1: RuntimeWarning: invalid value encountered in true_divide\n",
            "  \"\"\"Entry point for launching an IPython kernel.\n"
          ]
        },
        {
          "output_type": "execute_result",
          "data": {
            "text/plain": [
              "array([nan,  1.,  1.,  1.,  1.,  1.,  1.,  1.,  1.,  1.])"
            ]
          },
          "metadata": {},
          "execution_count": 146
        }
      ]
    },
    {
      "cell_type": "code",
      "metadata": {
        "id": "irS_Ve-E3NQB"
      },
      "source": [
        "1/arr"
      ],
      "execution_count": null,
      "outputs": []
    },
    {
      "cell_type": "markdown",
      "metadata": {
        "id": "1Z1ns9EL3pzV"
      },
      "source": [
        "## Universal Array Functions"
      ]
    },
    {
      "cell_type": "code",
      "metadata": {
        "id": "JJ4eRNSf3y3f",
        "colab": {
          "base_uri": "https://localhost:8080/",
          "height": 193
        },
        "outputId": "f2a19c79-ce51-4bce-a193-117b4cf58e5d"
      },
      "source": [
        "#take square roots\n",
        "np.array(arr)"
      ],
      "execution_count": 11,
      "outputs": [
        {
          "output_type": "error",
          "ename": "NameError",
          "evalue": "ignored",
          "traceback": [
            "\u001b[0;31m---------------------------------------------------------------------------\u001b[0m",
            "\u001b[0;31mNameError\u001b[0m                                 Traceback (most recent call last)",
            "\u001b[0;32m<ipython-input-11-e7f32a328786>\u001b[0m in \u001b[0;36m<module>\u001b[0;34m()\u001b[0m\n\u001b[1;32m      1\u001b[0m \u001b[0;31m#take square roots\u001b[0m\u001b[0;34m\u001b[0m\u001b[0;34m\u001b[0m\u001b[0;34m\u001b[0m\u001b[0m\n\u001b[0;32m----> 2\u001b[0;31m \u001b[0mnp\u001b[0m\u001b[0;34m.\u001b[0m\u001b[0marray\u001b[0m\u001b[0;34m(\u001b[0m\u001b[0marr\u001b[0m\u001b[0;34m)\u001b[0m\u001b[0;34m\u001b[0m\u001b[0;34m\u001b[0m\u001b[0m\n\u001b[0m",
            "\u001b[0;31mNameError\u001b[0m: name 'np' is not defined"
          ]
        }
      ]
    },
    {
      "cell_type": "code",
      "metadata": {
        "id": "5lG4WU7O3pBw",
        "colab": {
          "base_uri": "https://localhost:8080/"
        },
        "outputId": "a7dc7736-9800-458e-c2cd-8a1e66a6cf58"
      },
      "source": [
        "#calculate exponetial (e^)\n",
        "np.exp(arr)"
      ],
      "execution_count": null,
      "outputs": [
        {
          "output_type": "execute_result",
          "data": {
            "text/plain": [
              "array([1.00000000e+00, 2.71828183e+00, 7.38905610e+00, 2.00855369e+01,\n",
              "       5.45981500e+01, 1.48413159e+02, 4.03428793e+02, 1.09663316e+03,\n",
              "       2.98095799e+03, 8.10308393e+03])"
            ]
          },
          "metadata": {},
          "execution_count": 149
        }
      ]
    },
    {
      "cell_type": "code",
      "metadata": {
        "id": "f8MER95b3ow0",
        "colab": {
          "base_uri": "https://localhost:8080/"
        },
        "outputId": "47d08d94-e00b-48d9-be52-0fb0eb6cba30"
      },
      "source": [
        "np.max(arr) # same as arr.max()"
      ],
      "execution_count": null,
      "outputs": [
        {
          "output_type": "execute_result",
          "data": {
            "text/plain": [
              "9"
            ]
          },
          "metadata": {},
          "execution_count": 150
        }
      ]
    },
    {
      "cell_type": "code",
      "metadata": {
        "id": "dvEBdoXo3opP",
        "colab": {
          "base_uri": "https://localhost:8080/"
        },
        "outputId": "66733e34-b1c5-48f5-97e8-a9cb6aaf5a2f"
      },
      "source": [
        "np.min(arr)"
      ],
      "execution_count": null,
      "outputs": [
        {
          "output_type": "execute_result",
          "data": {
            "text/plain": [
              "0"
            ]
          },
          "metadata": {},
          "execution_count": 151
        }
      ]
    },
    {
      "cell_type": "code",
      "metadata": {
        "id": "kG9-6Pne4lVD",
        "colab": {
          "base_uri": "https://localhost:8080/"
        },
        "outputId": "bfa006b0-0b85-416f-aa3f-a0515f55572b"
      },
      "source": [
        "np.sin(arr)"
      ],
      "execution_count": null,
      "outputs": [
        {
          "output_type": "execute_result",
          "data": {
            "text/plain": [
              "array([ 0.        ,  0.84147098,  0.90929743,  0.14112001, -0.7568025 ,\n",
              "       -0.95892427, -0.2794155 ,  0.6569866 ,  0.98935825,  0.41211849])"
            ]
          },
          "metadata": {},
          "execution_count": 153
        }
      ]
    },
    {
      "cell_type": "code",
      "metadata": {
        "id": "hLxkvS0X4uJp",
        "colab": {
          "base_uri": "https://localhost:8080/"
        },
        "outputId": "691ee02e-db5e-4c65-d128-f2016ae2eb36"
      },
      "source": [
        "np.log(arr)"
      ],
      "execution_count": null,
      "outputs": [
        {
          "output_type": "stream",
          "name": "stderr",
          "text": [
            "/usr/local/lib/python3.7/dist-packages/ipykernel_launcher.py:1: RuntimeWarning: divide by zero encountered in log\n",
            "  \"\"\"Entry point for launching an IPython kernel.\n"
          ]
        },
        {
          "output_type": "execute_result",
          "data": {
            "text/plain": [
              "array([      -inf, 0.        , 0.69314718, 1.09861229, 1.38629436,\n",
              "       1.60943791, 1.79175947, 1.94591015, 2.07944154, 2.19722458])"
            ]
          },
          "metadata": {},
          "execution_count": 154
        }
      ]
    },
    {
      "cell_type": "code",
      "metadata": {
        "id": "m_7M8YQb4uGE"
      },
      "source": [
        "# 2주뒤에\n",
        "\n",
        "# ex8) Get the sum (addition) of all the values in the 'matrix' veriable 검증 가능한 '행렬'의 모든 값의 합계(더하기)를 구합니다."
      ],
      "execution_count": null,
      "outputs": []
    },
    {
      "cell_type": "code",
      "metadata": {
        "id": "EnYqz4-g4t-Y"
      },
      "source": [
        "# ex9) Get the standard deviation of the values in the 'matrix' variable 값 중 'matrix의 변수의 표준 편차"
      ],
      "execution_count": null,
      "outputs": []
    },
    {
      "cell_type": "code",
      "metadata": {
        "id": "GXzV45xX4oUJ"
      },
      "source": [
        "# ex10) get the sum of all the colums in the 'matrix' variable 행렬 변수의 모든 합계를 구하다"
      ],
      "execution_count": null,
      "outputs": []
    },
    {
      "cell_type": "markdown",
      "metadata": {
        "id": "lQuU1SujlSn7"
      },
      "source": [
        "###Data input and output"
      ]
    },
    {
      "cell_type": "code",
      "metadata": {
        "id": "HzQcPW20lNPm"
      },
      "source": [
        "import numpy as np\n",
        "import pandas as pd"
      ],
      "execution_count": 49,
      "outputs": []
    },
    {
      "cell_type": "code",
      "metadata": {
        "id": "K0FRyOe2lRcT"
      },
      "source": [
        ""
      ],
      "execution_count": null,
      "outputs": []
    },
    {
      "cell_type": "code",
      "metadata": {
        "id": "EWTn_Gr2lQ2N"
      },
      "source": [
        ""
      ],
      "execution_count": null,
      "outputs": []
    },
    {
      "cell_type": "markdown",
      "metadata": {
        "id": "HCw10rAmljNC"
      },
      "source": [
        "### Connecting to GDrive"
      ]
    },
    {
      "cell_type": "code",
      "metadata": {
        "id": "7Qnof8ewlltO",
        "outputId": "fa01d0e4-203e-40ac-98fa-cc167dc46d9c",
        "colab": {
          "base_uri": "https://localhost:8080/"
        }
      },
      "source": [
        "from google.colab import drive\n",
        "drive.mount('/content/gdrive')"
      ],
      "execution_count": 50,
      "outputs": [
        {
          "output_type": "stream",
          "name": "stdout",
          "text": [
            "Mounted at /content/gdrive\n"
          ]
        }
      ]
    },
    {
      "cell_type": "markdown",
      "metadata": {
        "id": "qemTEoE0mas2"
      },
      "source": [
        "###CSV files"
      ]
    },
    {
      "cell_type": "code",
      "metadata": {
        "id": "UPuekLxulxQ1"
      },
      "source": [
        "df = pd.read_csv('/content/gdrive/MyDrive/dataset/example.csv')"
      ],
      "execution_count": 51,
      "outputs": []
    },
    {
      "cell_type": "code",
      "metadata": {
        "id": "GFXM_b_tmlYs",
        "outputId": "f9567f63-93c4-47b5-e975-0e41636407e4",
        "colab": {
          "base_uri": "https://localhost:8080/"
        }
      },
      "source": [
        "print(df)"
      ],
      "execution_count": 52,
      "outputs": [
        {
          "output_type": "stream",
          "name": "stdout",
          "text": [
            "    a   b   c   d\n",
            "0   0   1   2   3\n",
            "1   4   5   6   7\n",
            "2   8   9  10  11\n",
            "3  12  13  14  15\n"
          ]
        }
      ]
    },
    {
      "cell_type": "code",
      "metadata": {
        "id": "xGJwzWUbpS4R"
      },
      "source": [
        "df.to_csv('/content/gdrive/MyDrive/dataset/example_test.csv')"
      ],
      "execution_count": 53,
      "outputs": []
    },
    {
      "cell_type": "markdown",
      "metadata": {
        "id": "R7oMXS2jqJtd"
      },
      "source": [
        "### Excel files"
      ]
    },
    {
      "cell_type": "code",
      "metadata": {
        "id": "k9Zs36yQqGwq"
      },
      "source": [
        "df2 = pd.read_excel('/content/gdrive/MyDrive/dataset/Example_EXCEL.xlsx',\n",
        "                    usecols = ['a','c'], sheet_name='Sheet1')"
      ],
      "execution_count": 63,
      "outputs": []
    },
    {
      "cell_type": "code",
      "metadata": {
        "id": "Jln3fkwkpSyQ",
        "outputId": "7db74345-bb7e-4a2c-d8e1-4c62964acce3",
        "colab": {
          "base_uri": "https://localhost:8080/"
        }
      },
      "source": [
        "print(df2)"
      ],
      "execution_count": 64,
      "outputs": [
        {
          "output_type": "stream",
          "name": "stdout",
          "text": [
            "    a   c\n",
            "0   0   2\n",
            "1   4   6\n",
            "2   8  10\n",
            "3  12  14\n"
          ]
        }
      ]
    },
    {
      "cell_type": "code",
      "metadata": {
        "id": "i9Mhs-BtpSsW"
      },
      "source": [
        "df2.to_excel('/content/gdrive/MyDrive /dataset/Example_EXCEL.xlsx',\n",
        "             sheet_name='Sheet1')"
      ],
      "execution_count": 68,
      "outputs": []
    },
    {
      "cell_type": "markdown",
      "metadata": {
        "id": "35pb7MDHssXF"
      },
      "source": [
        "###Pandas Built-in Data Visualization"
      ]
    },
    {
      "cell_type": "code",
      "metadata": {
        "id": "T9GFo7popSmU"
      },
      "source": [
        "# import numpy and pandas\n",
        "%matplotlib inline"
      ],
      "execution_count": 70,
      "outputs": []
    },
    {
      "cell_type": "code",
      "metadata": {
        "id": "HEhnnbdOmlPk"
      },
      "source": [
        "from numpy.random import randn\n",
        "np.random.seed(101)"
      ],
      "execution_count": 73,
      "outputs": []
    },
    {
      "cell_type": "code",
      "metadata": {
        "id": "AGOjBF0pteQ1"
      },
      "source": [
        "import matplotlib.pyplot as plt"
      ],
      "execution_count": 76,
      "outputs": []
    },
    {
      "cell_type": "markdown",
      "metadata": {
        "id": "xJ-JDK34tqJB"
      },
      "source": [
        "###Data"
      ]
    },
    {
      "cell_type": "code",
      "metadata": {
        "id": "NM_4lO7Rtgxz"
      },
      "source": [
        "df1 = pd.DataFrame(randn(1000, 4), columns= 'A B C D'.split() )\n",
        "df2 = pd.DataFrame(abs(randn(10,4)), columns=['A','B','C','D'] )"
      ],
      "execution_count": 78,
      "outputs": []
    },
    {
      "cell_type": "markdown",
      "metadata": {
        "id": "WKUXF7dLu7-_"
      },
      "source": [
        "###Style Sheets"
      ]
    },
    {
      "cell_type": "code",
      "metadata": {
        "id": "Gb6Hr5kHtgue",
        "outputId": "d1d510b3-b0a0-4cdc-817d-fc2640346b58",
        "colab": {
          "base_uri": "https://localhost:8080/",
          "height": 283
        }
      },
      "source": [
        "df1['A'].hist() #정규분포와 유사"
      ],
      "execution_count": 80,
      "outputs": [
        {
          "output_type": "execute_result",
          "data": {
            "text/plain": [
              "<matplotlib.axes._subplots.AxesSubplot at 0x7f9a07789310>"
            ]
          },
          "metadata": {},
          "execution_count": 80
        },
        {
          "output_type": "display_data",
          "data": {
            "image/png": "[encoded data removed]",
            "text/plain": [
              "<Figure size 432x288 with 1 Axes>"
            ]
          },
          "metadata": {
            "needs_background": "light"
          }
        }
      ]
    },
    {
      "cell_type": "code",
      "metadata": {
        "id": "HKQMohievtmL"
      },
      "source": [
        "plt.style.use('ggplot')"
      ],
      "execution_count": 81,
      "outputs": []
    },
    {
      "cell_type": "code",
      "metadata": {
        "id": "rF2FJzhctgsD",
        "outputId": "fde7bc88-f7ce-4583-c369-65f8a086058c",
        "colab": {
          "base_uri": "https://localhost:8080/",
          "height": 283
        }
      },
      "source": [
        "df1['A'].hist()"
      ],
      "execution_count": 82,
      "outputs": [
        {
          "output_type": "execute_result",
          "data": {
            "text/plain": [
              "<matplotlib.axes._subplots.AxesSubplot at 0x7f9a06f6b3d0>"
            ]
          },
          "metadata": {},
          "execution_count": 82
        },
        {
          "output_type": "display_data",
          "data": {
            "image/png": "[encoded data removed]",
            "text/plain": [
              "<Figure size 432x288 with 1 Axes>"
            ]
          },
          "metadata": {}
        }
      ]
    },
    {
      "cell_type": "code",
      "metadata": {
        "id": "V_GdDyTSwSVi"
      },
      "source": [
        "plt.style.use('bmh')"
      ],
      "execution_count": 83,
      "outputs": []
    },
    {
      "cell_type": "code",
      "metadata": {
        "id": "U0kcoIxvwSHy",
        "outputId": "5f93fe75-45a7-45ac-b482-2e4c5368cbae",
        "colab": {
          "base_uri": "https://localhost:8080/",
          "height": 280
        }
      },
      "source": [
        "df1['A'].hist()"
      ],
      "execution_count": 84,
      "outputs": [
        {
          "output_type": "execute_result",
          "data": {
            "text/plain": [
              "<matplotlib.axes._subplots.AxesSubplot at 0x7f9a072d1450>"
            ]
          },
          "metadata": {},
          "execution_count": 84
        },
        {
          "output_type": "display_data",
          "data": {
            "image/png": "[encoded data removed]",
            "text/plain": [
              "<Figure size 432x288 with 1 Axes>"
            ]
          },
          "metadata": {}
        }
      ]
    },
    {
      "cell_type": "code",
      "metadata": {
        "id": "b515L5mltgpd",
        "outputId": "bc6ca0a0-12a4-48b2-bf23-b1bd3172266a",
        "colab": {
          "base_uri": "https://localhost:8080/",
          "height": 280
        }
      },
      "source": [
        "plt.style.use('dark_background')\n",
        "df1['A'].hist()"
      ],
      "execution_count": 86,
      "outputs": [
        {
          "output_type": "execute_result",
          "data": {
            "text/plain": [
              "<matplotlib.axes._subplots.AxesSubplot at 0x7f9a072926d0>"
            ]
          },
          "metadata": {},
          "execution_count": 86
        },
        {
          "output_type": "display_data",
          "data": {
            "image/png": "[encoded data removed]",
            "text/plain": [
              "<Figure size 432x288 with 1 Axes>"
            ]
          },
          "metadata": {}
        }
      ]
    },
    {
      "cell_type": "code",
      "metadata": {
        "id": "VEOYV2V1tgUz",
        "outputId": "1ae820bc-fc21-45d2-de0d-e115841d5b55",
        "colab": {
          "base_uri": "https://localhost:8080/",
          "height": 300
        }
      },
      "source": [
        "plt.style.use('fivethirtyeight')\n",
        "df1['A'].hist()"
      ],
      "execution_count": 87,
      "outputs": [
        {
          "output_type": "execute_result",
          "data": {
            "text/plain": [
              "<matplotlib.axes._subplots.AxesSubplot at 0x7f9a06e72450>"
            ]
          },
          "metadata": {},
          "execution_count": 87
        },
        {
          "output_type": "display_data",
          "data": {
            "image/png": "[encoded data removed]",
            "text/plain": [
              "<Figure size 432x288 with 1 Axes>"
            ]
          },
          "metadata": {}
        }
      ]
    },
    {
      "cell_type": "code",
      "metadata": {
        "id": "CdGCMkkzw_ow"
      },
      "source": [
        "plt.style.use('ggplot')"
      ],
      "execution_count": 88,
      "outputs": []
    },
    {
      "cell_type": "markdown",
      "metadata": {
        "id": "JScOj7NExXKW"
      },
      "source": [
        "### Plot Types\n",
        "\n",
        "1.   df.plot.area\n",
        "2.   df.plot.barh\n",
        "3.   df.plot.density\n",
        "4.   df.plot.hist\n",
        "5.   df.plot.line\n",
        "6.   df.plot.scatter\n",
        "7.   df.plot.box\n",
        "8.   df.plot.hexbin\n",
        "9.   df.plot.kde\n",
        "10.  df.plot.pie\n",
        "\n"
      ]
    },
    {
      "cell_type": "markdown",
      "metadata": {
        "id": "5mEP-VIwySHb"
      },
      "source": [
        "#### Area"
      ]
    },
    {
      "cell_type": "code",
      "metadata": {
        "id": "sJhUp6zAxQSI",
        "outputId": "2452174d-07df-4cfd-c834-c28baba63484",
        "colab": {
          "base_uri": "https://localhost:8080/",
          "height": 296
        }
      },
      "source": [
        "df2.plot.area()"
      ],
      "execution_count": 89,
      "outputs": [
        {
          "output_type": "execute_result",
          "data": {
            "text/plain": [
              "<matplotlib.axes._subplots.AxesSubplot at 0x7f9a06cd1710>"
            ]
          },
          "metadata": {},
          "execution_count": 89
        },
        {
          "output_type": "display_data",
          "data": {
            "image/png": "[encoded data removed]",
            "text/plain": [
              "<Figure size 432x288 with 1 Axes>"
            ]
          },
          "metadata": {}
        }
      ]
    },
    {
      "cell_type": "code",
      "metadata": {
        "id": "VlhyHwh5xQPZ",
        "outputId": "511f9bf7-6e80-4cf1-be87-3846ef714b36",
        "colab": {
          "base_uri": "https://localhost:8080/",
          "height": 296
        }
      },
      "source": [
        "df2.plot.area(alpha = 0.4)"
      ],
      "execution_count": 90,
      "outputs": [
        {
          "output_type": "execute_result",
          "data": {
            "text/plain": [
              "<matplotlib.axes._subplots.AxesSubplot at 0x7f9a059e3950>"
            ]
          },
          "metadata": {},
          "execution_count": 90
        },
        {
          "output_type": "display_data",
          "data": {
            "image/png": "[encoded data removed]",
            "text/plain": [
              "<Figure size 432x288 with 1 Axes>"
            ]
          },
          "metadata": {}
        }
      ]
    },
    {
      "cell_type": "markdown",
      "metadata": {
        "id": "EkoOy7Wry5X8"
      },
      "source": [
        "### barplots"
      ]
    },
    {
      "cell_type": "code",
      "metadata": {
        "id": "WTWKheNyxQLm",
        "outputId": "3108e792-c507-4728-e9a2-1f631402b825",
        "colab": {
          "base_uri": "https://localhost:8080/",
          "height": 206
        }
      },
      "source": [
        "df2.head()"
      ],
      "execution_count": 91,
      "outputs": [
        {
          "output_type": "execute_result",
          "data": {
            "text/html": [
              "<div>\n",
              "<style scoped>\n",
              "    .dataframe tbody tr th:only-of-type {\n",
              "        vertical-align: middle;\n",
              "    }\n",
              "\n",
              "    .dataframe tbody tr th {\n",
              "        vertical-align: top;\n",
              "    }\n",
              "\n",
              "    .dataframe thead th {\n",
              "        text-align: right;\n",
              "    }\n",
              "</style>\n",
              "<table border=\"1\" class=\"dataframe\">\n",
              "  <thead>\n",
              "    <tr style=\"text-align: right;\">\n",
              "      <th></th>\n",
              "      <th>A</th>\n",
              "      <th>B</th>\n",
              "      <th>C</th>\n",
              "      <th>D</th>\n",
              "    </tr>\n",
              "  </thead>\n",
              "  <tbody>\n",
              "    <tr>\n",
              "      <th>0</th>\n",
              "      <td>2.053304</td>\n",
              "      <td>1.450564</td>\n",
              "      <td>1.701538</td>\n",
              "      <td>0.582508</td>\n",
              "    </tr>\n",
              "    <tr>\n",
              "      <th>1</th>\n",
              "      <td>0.943871</td>\n",
              "      <td>0.536297</td>\n",
              "      <td>0.971582</td>\n",
              "      <td>0.374115</td>\n",
              "    </tr>\n",
              "    <tr>\n",
              "      <th>2</th>\n",
              "      <td>0.275532</td>\n",
              "      <td>0.166243</td>\n",
              "      <td>0.428558</td>\n",
              "      <td>1.430652</td>\n",
              "    </tr>\n",
              "    <tr>\n",
              "      <th>3</th>\n",
              "      <td>2.198386</td>\n",
              "      <td>1.374226</td>\n",
              "      <td>1.053947</td>\n",
              "      <td>1.257425</td>\n",
              "    </tr>\n",
              "    <tr>\n",
              "      <th>4</th>\n",
              "      <td>0.817367</td>\n",
              "      <td>1.190673</td>\n",
              "      <td>0.027314</td>\n",
              "      <td>0.574070</td>\n",
              "    </tr>\n",
              "  </tbody>\n",
              "</table>\n",
              "</div>"
            ],
            "text/plain": [
              "          A         B         C         D\n",
              "0  2.053304  1.450564  1.701538  0.582508\n",
              "1  0.943871  0.536297  0.971582  0.374115\n",
              "2  0.275532  0.166243  0.428558  1.430652\n",
              "3  2.198386  1.374226  1.053947  1.257425\n",
              "4  0.817367  1.190673  0.027314  0.574070"
            ]
          },
          "metadata": {},
          "execution_count": 91
        }
      ]
    },
    {
      "cell_type": "code",
      "metadata": {
        "id": "6GfdCKIwxQIj",
        "outputId": "5eb4df12-baaf-4125-e36c-be47362ce467",
        "colab": {
          "base_uri": "https://localhost:8080/",
          "height": 143
        }
      },
      "source": [
        "df2.tail(3)"
      ],
      "execution_count": 92,
      "outputs": [
        {
          "output_type": "execute_result",
          "data": {
            "text/html": [
              "<div>\n",
              "<style scoped>\n",
              "    .dataframe tbody tr th:only-of-type {\n",
              "        vertical-align: middle;\n",
              "    }\n",
              "\n",
              "    .dataframe tbody tr th {\n",
              "        vertical-align: top;\n",
              "    }\n",
              "\n",
              "    .dataframe thead th {\n",
              "        text-align: right;\n",
              "    }\n",
              "</style>\n",
              "<table border=\"1\" class=\"dataframe\">\n",
              "  <thead>\n",
              "    <tr style=\"text-align: right;\">\n",
              "      <th></th>\n",
              "      <th>A</th>\n",
              "      <th>B</th>\n",
              "      <th>C</th>\n",
              "      <th>D</th>\n",
              "    </tr>\n",
              "  </thead>\n",
              "  <tbody>\n",
              "    <tr>\n",
              "      <th>7</th>\n",
              "      <td>0.535172</td>\n",
              "      <td>0.031398</td>\n",
              "      <td>0.139456</td>\n",
              "      <td>0.176122</td>\n",
              "    </tr>\n",
              "    <tr>\n",
              "      <th>8</th>\n",
              "      <td>0.149926</td>\n",
              "      <td>0.149309</td>\n",
              "      <td>0.129002</td>\n",
              "      <td>0.332997</td>\n",
              "    </tr>\n",
              "    <tr>\n",
              "      <th>9</th>\n",
              "      <td>0.766784</td>\n",
              "      <td>0.668865</td>\n",
              "      <td>0.129419</td>\n",
              "      <td>0.181624</td>\n",
              "    </tr>\n",
              "  </tbody>\n",
              "</table>\n",
              "</div>"
            ],
            "text/plain": [
              "          A         B         C         D\n",
              "7  0.535172  0.031398  0.139456  0.176122\n",
              "8  0.149926  0.149309  0.129002  0.332997\n",
              "9  0.766784  0.668865  0.129419  0.181624"
            ]
          },
          "metadata": {},
          "execution_count": 92
        }
      ]
    },
    {
      "cell_type": "code",
      "metadata": {
        "id": "IYaFVJouzSMw",
        "outputId": "48cbf21b-f4ed-4cd9-9672-97e76175b33c",
        "colab": {
          "base_uri": "https://localhost:8080/",
          "height": 292
        }
      },
      "source": [
        "df2.plot.bar()"
      ],
      "execution_count": 93,
      "outputs": [
        {
          "output_type": "execute_result",
          "data": {
            "text/plain": [
              "<matplotlib.axes._subplots.AxesSubplot at 0x7f9a05967950>"
            ]
          },
          "metadata": {},
          "execution_count": 93
        },
        {
          "output_type": "display_data",
          "data": {
            "image/png": "[encoded data removed]",
            "text/plain": [
              "<Figure size 432x288 with 1 Axes>"
            ]
          },
          "metadata": {}
        }
      ]
    },
    {
      "cell_type": "code",
      "metadata": {
        "id": "JeP5tbX1zSJh",
        "outputId": "9cf0e1e3-b670-41bf-e6d7-58080e565007",
        "colab": {
          "base_uri": "https://localhost:8080/",
          "height": 296
        }
      },
      "source": [
        "df2.plot.barh()"
      ],
      "execution_count": 94,
      "outputs": [
        {
          "output_type": "execute_result",
          "data": {
            "text/plain": [
              "<matplotlib.axes._subplots.AxesSubplot at 0x7f9a05827810>"
            ]
          },
          "metadata": {},
          "execution_count": 94
        },
        {
          "output_type": "display_data",
          "data": {
            "image/png": "[encoded data removed]",
            "text/plain": [
              "<Figure size 432x288 with 1 Axes>"
            ]
          },
          "metadata": {}
        }
      ]
    },
    {
      "cell_type": "code",
      "metadata": {
        "id": "q_Uok5J9zLxA",
        "outputId": "06b675ec-b43a-435b-e5c7-58fc2a9d53ed",
        "colab": {
          "base_uri": "https://localhost:8080/",
          "height": 292
        }
      },
      "source": [
        "df2.plot.bar(stacked=True)"
      ],
      "execution_count": 95,
      "outputs": [
        {
          "output_type": "execute_result",
          "data": {
            "text/plain": [
              "<matplotlib.axes._subplots.AxesSubplot at 0x7f9a05717790>"
            ]
          },
          "metadata": {},
          "execution_count": 95
        },
        {
          "output_type": "display_data",
          "data": {
            "image/png": "[encoded data removed]",
            "text/plain": [
              "<Figure size 432x288 with 1 Axes>"
            ]
          },
          "metadata": {}
        }
      ]
    },
    {
      "cell_type": "markdown",
      "metadata": {
        "id": "jf6TMj3s0Lk8"
      },
      "source": [
        "#### Histogram"
      ]
    },
    {
      "cell_type": "code",
      "metadata": {
        "id": "1SW5lT62z1li",
        "outputId": "b93f69a6-4ddb-4a66-8494-e0dc1985ca1c",
        "colab": {
          "base_uri": "https://localhost:8080/",
          "height": 296
        }
      },
      "source": [
        "df1['A'].plot.hist(bins = 50)"
      ],
      "execution_count": 97,
      "outputs": [
        {
          "output_type": "execute_result",
          "data": {
            "text/plain": [
              "<matplotlib.axes._subplots.AxesSubplot at 0x7f9a05609190>"
            ]
          },
          "metadata": {},
          "execution_count": 97
        },
        {
          "output_type": "display_data",
          "data": {
            "image/png": "[encoded data removed]",
            "text/plain": [
              "<Figure size 432x288 with 1 Axes>"
            ]
          },
          "metadata": {}
        }
      ]
    },
    {
      "cell_type": "markdown",
      "metadata": {
        "id": "BqLjU8s33Yia"
      },
      "source": [
        "#### Line Plots"
      ]
    },
    {
      "cell_type": "code",
      "metadata": {
        "id": "JQGpeukdzLuo",
        "outputId": "5fd79ec5-1110-4dec-f54f-e1516c2f9605",
        "colab": {
          "base_uri": "https://localhost:8080/",
          "height": 220
        }
      },
      "source": [
        "df1.plot.line(y = 'A', figsize=(12,3))"
      ],
      "execution_count": 99,
      "outputs": [
        {
          "output_type": "execute_result",
          "data": {
            "text/plain": [
              "<matplotlib.axes._subplots.AxesSubplot at 0x7f9a058634d0>"
            ]
          },
          "metadata": {},
          "execution_count": 99
        },
        {
          "output_type": "display_data",
          "data": {
            "image/png": "[encoded data removed]",
            "text/plain": [
              "<Figure size 864x216 with 1 Axes>"
            ]
          },
          "metadata": {}
        }
      ]
    },
    {
      "cell_type": "markdown",
      "metadata": {
        "id": "mZ8tXylg4UPo"
      },
      "source": [
        "### Scatter Plot"
      ]
    },
    {
      "cell_type": "code",
      "metadata": {
        "id": "3qOSdVQexN_e",
        "outputId": "e04607ea-d9d3-4396-c3ee-dc88264a1ad3",
        "colab": {
          "base_uri": "https://localhost:8080/",
          "height": 313
        }
      },
      "source": [
        "df1.plot.scatter(x='A', y='B')"
      ],
      "execution_count": 100,
      "outputs": [
        {
          "output_type": "execute_result",
          "data": {
            "text/plain": [
              "<matplotlib.axes._subplots.AxesSubplot at 0x7f9a058a5b90>"
            ]
          },
          "metadata": {},
          "execution_count": 100
        },
        {
          "output_type": "display_data",
          "data": {
            "image/png": "[encoded data removed]",
            "text/plain": [
              "<Figure size 432x288 with 1 Axes>"
            ]
          },
          "metadata": {}
        }
      ]
    },
    {
      "cell_type": "code",
      "metadata": {
        "id": "J0yU0D1zz0lq",
        "outputId": "9e4175bb-b2cb-4c97-ef97-cbedf88fc1e4",
        "colab": {
          "base_uri": "https://localhost:8080/",
          "height": 313
        }
      },
      "source": [
        "df1.plot.scatter(x='A', y='B', c='C', cmap='coolwarm')"
      ],
      "execution_count": 101,
      "outputs": [
        {
          "output_type": "execute_result",
          "data": {
            "text/plain": [
              "<matplotlib.axes._subplots.AxesSubplot at 0x7f9a053ded90>"
            ]
          },
          "metadata": {},
          "execution_count": 101
        },
        {
          "output_type": "display_data",
          "data": {
            "image/png": "[encoded data removed]",
            "text/plain": [
              "<Figure size 432x288 with 2 Axes>"
            ]
          },
          "metadata": {}
        }
      ]
    },
    {
      "cell_type": "code",
      "metadata": {
        "id": "YMOKKzQIz0i1",
        "outputId": "d83e823f-3ca8-4e45-df51-4d20c7d63aa8",
        "colab": {
          "base_uri": "https://localhost:8080/",
          "height": 370
        }
      },
      "source": [
        "df1.plot.scatter(x='A', y='B', s=df1['C']*100)"
      ],
      "execution_count": 102,
      "outputs": [
        {
          "output_type": "stream",
          "name": "stderr",
          "text": [
            "/usr/local/lib/python3.7/dist-packages/matplotlib/collections.py:885: RuntimeWarning: invalid value encountered in sqrt\n",
            "  scale = np.sqrt(self._sizes) * dpi / 72.0 * self._factor\n"
          ]
        },
        {
          "output_type": "execute_result",
          "data": {
            "text/plain": [
              "<matplotlib.axes._subplots.AxesSubplot at 0x7f9a052f3b10>"
            ]
          },
          "metadata": {},
          "execution_count": 102
        },
        {
          "output_type": "display_data",
          "data": {
            "image/png": "[encoded data removed]",
            "text/plain": [
              "<Figure size 432x288 with 1 Axes>"
            ]
          },
          "metadata": {}
        }
      ]
    },
    {
      "cell_type": "code",
      "metadata": {
        "id": "2UXprAa66S-a",
        "outputId": "cd870d45-a058-41bd-83d6-d6378582ea1d",
        "colab": {
          "base_uri": "https://localhost:8080/",
          "height": 296
        }
      },
      "source": [
        "df2.plot.box()"
      ],
      "execution_count": 103,
      "outputs": [
        {
          "output_type": "execute_result",
          "data": {
            "text/plain": [
              "<matplotlib.axes._subplots.AxesSubplot at 0x7f9a052dcd90>"
            ]
          },
          "metadata": {},
          "execution_count": 103
        },
        {
          "output_type": "display_data",
          "data": {
            "image/png": "[encoded data removed]",
            "text/plain": [
              "<Figure size 432x288 with 1 Axes>"
            ]
          },
          "metadata": {}
        }
      ]
    },
    {
      "cell_type": "markdown",
      "metadata": {
        "id": "2MFf7PDv6vpU"
      },
      "source": [
        "#### Hexagonal Bin Plot"
      ]
    },
    {
      "cell_type": "code",
      "metadata": {
        "id": "ikTT5j3Y6S4X",
        "outputId": "22a7d423-8d98-4213-9804-830e4c57b02a",
        "colab": {
          "base_uri": "https://localhost:8080/",
          "height": 317
        }
      },
      "source": [
        "df1.plot.hexbin(x='A', y='B', gridsize=25, cmap= 'Oranges')"
      ],
      "execution_count": 106,
      "outputs": [
        {
          "output_type": "execute_result",
          "data": {
            "text/plain": [
              "<matplotlib.axes._subplots.AxesSubplot at 0x7f9a04fef190>"
            ]
          },
          "metadata": {},
          "execution_count": 106
        },
        {
          "output_type": "display_data",
          "data": {
            "image/png": "[encoded data removed]",
            "text/plain": [
              "<Figure size 432x288 with 2 Axes>"
            ]
          },
          "metadata": {}
        }
      ]
    },
    {
      "cell_type": "markdown",
      "metadata": {
        "id": "HMNiVGHu7hH9"
      },
      "source": [
        "### Kernel Density Estimation Plot (KDE)"
      ]
    },
    {
      "cell_type": "code",
      "metadata": {
        "id": "n9nJ3cz18Cqz",
        "outputId": "e6ed1033-82d7-4798-df4a-9f392f75752c",
        "colab": {
          "base_uri": "https://localhost:8080/",
          "height": 296
        }
      },
      "source": [
        "df2['A'].plot.kde()"
      ],
      "execution_count": 108,
      "outputs": [
        {
          "output_type": "execute_result",
          "data": {
            "text/plain": [
              "<matplotlib.axes._subplots.AxesSubplot at 0x7f9a04facd10>"
            ]
          },
          "metadata": {},
          "execution_count": 108
        },
        {
          "output_type": "display_data",
          "data": {
            "image/png": "[encoded data removed]",
            "text/plain": [
              "<Figure size 432x288 with 1 Axes>"
            ]
          },
          "metadata": {}
        }
      ]
    },
    {
      "cell_type": "code",
      "metadata": {
        "id": "DC1NMIVg6S2M",
        "outputId": "92764145-6666-4f2d-888c-adbc68ee8154",
        "colab": {
          "base_uri": "https://localhost:8080/",
          "height": 296
        }
      },
      "source": [
        "df1['A'].hist()"
      ],
      "execution_count": 107,
      "outputs": [
        {
          "output_type": "execute_result",
          "data": {
            "text/plain": [
              "<matplotlib.axes._subplots.AxesSubplot at 0x7f9a04f54150>"
            ]
          },
          "metadata": {},
          "execution_count": 107
        },
        {
          "output_type": "display_data",
          "data": {
            "image/png": "[encoded data removed]",
            "text/plain": [
              "<Figure size 432x288 with 1 Axes>"
            ]
          },
          "metadata": {}
        }
      ]
    },
    {
      "cell_type": "code",
      "metadata": {
        "id": "PqunUZM36S0G",
        "outputId": "47a11336-8c43-4c56-c3be-e622208f07f0",
        "colab": {
          "base_uri": "https://localhost:8080/",
          "height": 296
        }
      },
      "source": [
        "df2.plot.density()"
      ],
      "execution_count": 109,
      "outputs": [
        {
          "output_type": "execute_result",
          "data": {
            "text/plain": [
              "<matplotlib.axes._subplots.AxesSubplot at 0x7f99f4dc8d50>"
            ]
          },
          "metadata": {},
          "execution_count": 109
        },
        {
          "output_type": "display_data",
          "data": {
            "image/png": "[encoded data removed]",
            "text/plain": [
              "<Figure size 432x288 with 1 Axes>"
            ]
          },
          "metadata": {}
        }
      ]
    },
    {
      "cell_type": "markdown",
      "metadata": {
        "id": "WIRECp4T88oJ"
      },
      "source": [
        "### MatPlotLib"
      ]
    },
    {
      "cell_type": "code",
      "metadata": {
        "id": "IHnUvoTD6Sw-"
      },
      "source": [
        ""
      ],
      "execution_count": null,
      "outputs": []
    },
    {
      "cell_type": "code",
      "metadata": {
        "id": "gqtW6zqW6Suc"
      },
      "source": [
        ""
      ],
      "execution_count": null,
      "outputs": []
    },
    {
      "cell_type": "code",
      "metadata": {
        "id": "ocYOZacg8T0P"
      },
      "source": [
        ""
      ],
      "execution_count": null,
      "outputs": []
    },
    {
      "cell_type": "code",
      "metadata": {
        "id": "4Qmg6VBt8TpR"
      },
      "source": [
        ""
      ],
      "execution_count": null,
      "outputs": []
    },
    {
      "cell_type": "code",
      "metadata": {
        "id": "004JL6r96Ru5"
      },
      "source": [
        ""
      ],
      "execution_count": null,
      "outputs": []
    }
  ]
}